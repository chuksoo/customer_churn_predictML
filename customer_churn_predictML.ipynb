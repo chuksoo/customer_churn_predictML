{
 "cells": [
  {
   "cell_type": "markdown",
   "metadata": {
    "id": "lZ_-ql1zRCIE"
   },
   "source": [
    "# Predicting Customer Churn with Machine Learning"
   ]
  },
  {
   "cell_type": "markdown",
   "metadata": {
    "id": "pwaUd1PSRCIH"
   },
   "source": [
    "Beta Bank customers are leaving: little by little, chipping away every month. The bankers figured out it’s cheaper to save the existing customers rather than to attract new ones.\n",
    "We need to predict whether a customer will leave the bank soon. You have the data on clients’ past behavior and termination of contracts with the bank. \n",
    "\n",
    "Build a model with the maximum possible F1 score. To pass the project, you need an F1 score of at least 0.59. Check the F1 for the test set. Additionally, measure the AUC-ROC metric and compare it with the F1.\n",
    "Data source: https://code.s3.yandex.net/datasets/Churn.csv"
   ]
  },
  {
   "cell_type": "markdown",
   "metadata": {
    "id": "S5Qu0KCQRCII"
   },
   "source": [
    "##### Business Statement"
   ]
  },
  {
   "cell_type": "markdown",
   "metadata": {
    "id": "2kCNm5ECRCII"
   },
   "source": [
    "One of the key business metrics (along with cash flow etc.) for banks, internet providers, pay TV companies, telecom companies is customer attrition analysis (or customer churn analysis). We say customer churn is loss of clients or customers. It is cheaper to keep existing customers than go for new ones. Beta bank have already seen the effect of customer churn as it affects their end of the year revenue and monthly recurring revenue (or MRR). To this end, we need to predict whether a customer will leave a bank soon given their past relationship and behavior while operating with Beta bank. The bank hopes to deploy churn prediction models and effective retention strategies in managing customer attrition thereby preventing significant loss of revenue from defecting customers."
   ]
  },
  {
   "cell_type": "markdown",
   "metadata": {
    "id": "nBw7aKf0RCIJ"
   },
   "source": [
    "##### Task Statement"
   ]
  },
  {
   "cell_type": "markdown",
   "metadata": {
    "id": "YJDHUmFYRCIJ"
   },
   "source": [
    "Using the customer data, train a model that predicts whether a customer will leave the bank soon."
   ]
  },
  {
   "cell_type": "markdown",
   "metadata": {
    "id": "mNXobDuYRCIJ"
   },
   "source": [
    "## Data description"
   ]
  },
  {
   "cell_type": "markdown",
   "metadata": {
    "id": "J0v2AEkrRCIJ"
   },
   "source": [
    "The data can be found in '/datasets/Churn.csv' file. Download the dataset. \n",
    "\n",
    "**Features**\n",
    "\n",
    " - `RowNumber` — data string index\n",
    " - `CustomerId` — unique customer identifier\n",
    " - `Surname` — surname\n",
    " - `CreditScore` — credit score\n",
    " - `Geography` — country of residence\n",
    " - `Gender` — gender\n",
    " - `Age` — age\n",
    " - `Tenure` — period of maturation for a customer’s fixed deposit (years)\n",
    " - `Balance` — account balance\n",
    " - `NumOfProducts` — number of banking products used by the customer\n",
    " - `HasCrCard` — customer has a credit card\n",
    " - `IsActiveMember` — customer’s activeness\n",
    " - `EstimatedSalary` — estimated salary\n",
    "\n",
    "**Target**\n",
    "\n",
    " - `Exited` — сustomer has left"
   ]
  },
  {
   "cell_type": "markdown",
   "metadata": {
    "id": "lxYpiMGxRCIK"
   },
   "source": [
    "## Objectives\n",
    "\n",
    "The objectives of this project is to:\n",
    "- Develop a model that would predicts whether a customer will leave the bank soon\n",
    "- Build a machine learning model with the maximum possible F1 score of atleast 0.59 or higher.\n",
    "- Measure the AUC-ROC metric and compare it with the F1 score."
   ]
  },
  {
   "cell_type": "markdown",
   "metadata": {
    "id": "RcFqyhd8RCIK"
   },
   "source": [
    "<hr>\n",
    "\n",
    " # Table of contents\n",
    "\n",
    "<div class=\"alert alert-block alert-info\" style=\"margin-top: 20px\">\n",
    "    <ol>\n",
    "        <li><a href=\"#open_the_data\">Open the data file and study the general information</a></li>\n",
    "        <li><a href=\"#data_preparation\">Prepare the data</a></li>\n",
    "        <li><a href=\"#feature_engineering\">Feature engineering</a></li>\n",
    "        <li><a href=\"#class_balance\">Examine the balance of classes</a></li>\n",
    "        <li><a href=\"#improve_quality\">Improve the quality of the model</a></li>\n",
    "        <li><a href=\"#investigate_models\">Investigate different models quality</a></li>\n",
    "        <li><a href=\"#check_quality\">Check model quality</a></li>\n",
    "        <li><a href=\"#overall_conclusion\">Overall conclusion</a></li>\n",
    "    </ol>\n",
    "</div>\n",
    "<br>\n",
    "<hr>"
   ]
  },
  {
   "cell_type": "markdown",
   "metadata": {
    "id": "J0N1vpRFRCIL"
   },
   "source": [
    "<div id=\"open_the_data\">\n",
    "    <h2>Open the data file and study the general information</h2> \n",
    "</div>"
   ]
  },
  {
   "cell_type": "markdown",
   "metadata": {
    "id": "42v9vA68RCIL"
   },
   "source": [
    "We require the following libraries: *pandas* and *numpy* for data preprocessing and manipulation, *Scikit-Learn* for building our learning algorithms"
   ]
  },
  {
   "cell_type": "code",
   "execution_count": 1,
   "metadata": {
    "colab": {
     "base_uri": "https://localhost:8080/"
    },
    "id": "Nxat2ScqRCIL",
    "outputId": "5e3bc02e-3468-4711-cc80-8ceae780515b"
   },
   "outputs": [
    {
     "name": "stdout",
     "output_type": "stream",
     "text": [
      "Project libraries has been successfully been imported!\n"
     ]
    }
   ],
   "source": [
    "# import pandas and numpy for data preprocessing and manipulation\n",
    "import numpy as np\n",
    "import pandas as pd\n",
    "import random\n",
    "\n",
    "# matplotlib for visualization\n",
    "import matplotlib.pyplot as plt\n",
    "%matplotlib inline\n",
    "\n",
    "# import train_test_split to split data\n",
    "from sklearn.model_selection import train_test_split, RepeatedStratifiedKFold, GridSearchCV\n",
    "from sklearn.preprocessing import StandardScaler\n",
    "pd.options.mode.chained_assignment = None # to avoid SettingWithCopyWarning after scaling\n",
    "\n",
    "# import machine learning module from the sklearn library\n",
    "from sklearn.dummy import DummyClassifier # import dummy classifier\n",
    "from sklearn.tree import DecisionTreeClassifier # import decision tree classifier\n",
    "from sklearn.linear_model import LogisticRegression # import logistic regression \n",
    "from sklearn.ensemble import RandomForestClassifier # import random forest algorithm\n",
    "from sklearn.ensemble import AdaBoostClassifier # import adaboost classifier algorithm\n",
    "from catboost import CatBoostClassifier # import catboost classifier\n",
    "\n",
    "# import metrics for sanity check on model\n",
    "from sklearn.metrics import *\n",
    "from sklearn.metrics import accuracy_score\n",
    "from sklearn.metrics import confusion_matrix, classification_report\n",
    "from sklearn.metrics import precision_score, recall_score, f1_score\n",
    "from sklearn.metrics import balanced_accuracy_score, roc_auc_score\n",
    "\n",
    "# import warnings\n",
    "import warnings\n",
    "warnings.filterwarnings('ignore')\n",
    "\n",
    "# import sklearn utilities\n",
    "from sklearn.utils import shuffle\n",
    "\n",
    "print('Project libraries has been successfully been imported!')"
   ]
  },
  {
   "cell_type": "code",
   "execution_count": 2,
   "metadata": {
    "colab": {
     "base_uri": "https://localhost:8080/"
    },
    "id": "JqDunOaHRCIN",
    "outputId": "049e0508-d519-4eb8-9043-1d393e9ede99"
   },
   "outputs": [
    {
     "name": "stdout",
     "output_type": "stream",
     "text": [
      "Data has been read correctly!\n"
     ]
    }
   ],
   "source": [
    "# read the data\n",
    "try:\n",
    "    df = pd.read_csv('https://code.s3.yandex.net/datasets/Churn.csv')\n",
    "except:\n",
    "    df = pd.read_csv('C:/Users/hotty/Desktop/Practicum by Yandex/Projects/Supervised Learning/Churn.csv')\n",
    "print('Data has been read correctly!')"
   ]
  },
  {
   "cell_type": "code",
   "execution_count": 3,
   "metadata": {
    "id": "BETUVWd_RCIN"
   },
   "outputs": [],
   "source": [
    "# function to determine if columns in file have null values\n",
    "def get_percent_of_na(df, num):\n",
    "    count = 0\n",
    "    df = df.copy()\n",
    "    s = (df.isna().sum() / df.shape[0])\n",
    "    for column, percent in zip(s.index, s.values):\n",
    "        num_of_nulls = df[column].isna().sum()\n",
    "        if num_of_nulls == 0:\n",
    "            continue\n",
    "        else:\n",
    "            count += 1\n",
    "        print('Column {} has {:.{}%} percent of Nulls, and {} of nulls'.format(column, percent, num, num_of_nulls))\n",
    "    if count != 0:\n",
    "        print(\"\\033[1m\" + 'There are {} columns with NA.'.format(count) + \"\\033[0m\")\n",
    "    else:\n",
    "        print()\n",
    "        print(\"\\033[1m\" + 'There are no columns with NA.' + \"\\033[0m\")\n",
    "        \n",
    "# function to display general information about the dataset\n",
    "def get_info(df):\n",
    "    \"\"\"\n",
    "    This function uses the head(), info(), describe(), shape() and duplicated() \n",
    "    methods to display the general information about the dataset.\n",
    "    \"\"\"\n",
    "    print(\"\\033[1m\" + '-'*100 + \"\\033[0m\")\n",
    "    print('Head:')\n",
    "    print()\n",
    "    display(df.head())\n",
    "    print('-'*100)\n",
    "    print('Info:')\n",
    "    print()\n",
    "    display(df.info())\n",
    "    print('-'*100)\n",
    "    print('Describe:')\n",
    "    print()\n",
    "    display(df.describe())\n",
    "    print('-'*100)\n",
    "    display(df.describe(include='object'))\n",
    "    print()\n",
    "    print('Columns with nulls:')\n",
    "    display(get_percent_of_na(df, 4))  # check this out\n",
    "    print('-'*100)\n",
    "    print('Shape:')\n",
    "    print(df.shape)\n",
    "    print('-'*100)\n",
    "    print('Duplicated:')\n",
    "    print(\"\\033[1m\" + 'We have {} duplicated rows.\\n'.format(df.duplicated().sum()) + \"\\033[0m\")\n",
    "    print()"
   ]
  },
  {
   "cell_type": "code",
   "execution_count": 4,
   "metadata": {
    "colab": {
     "base_uri": "https://localhost:8080/",
     "height": 1000
    },
    "id": "L5J30KZmRCIO",
    "outputId": "9b7f095e-a4a3-43ca-c85e-c17e52f0029b"
   },
   "outputs": [
    {
     "name": "stdout",
     "output_type": "stream",
     "text": [
      "General information about the dataframe\n",
      "\u001b[1m----------------------------------------------------------------------------------------------------\u001b[0m\n",
      "Head:\n",
      "\n"
     ]
    },
    {
     "data": {
      "text/html": [
       "<div>\n",
       "<style scoped>\n",
       "    .dataframe tbody tr th:only-of-type {\n",
       "        vertical-align: middle;\n",
       "    }\n",
       "\n",
       "    .dataframe tbody tr th {\n",
       "        vertical-align: top;\n",
       "    }\n",
       "\n",
       "    .dataframe thead th {\n",
       "        text-align: right;\n",
       "    }\n",
       "</style>\n",
       "<table border=\"1\" class=\"dataframe\">\n",
       "  <thead>\n",
       "    <tr style=\"text-align: right;\">\n",
       "      <th></th>\n",
       "      <th>RowNumber</th>\n",
       "      <th>CustomerId</th>\n",
       "      <th>Surname</th>\n",
       "      <th>CreditScore</th>\n",
       "      <th>Geography</th>\n",
       "      <th>Gender</th>\n",
       "      <th>Age</th>\n",
       "      <th>Tenure</th>\n",
       "      <th>Balance</th>\n",
       "      <th>NumOfProducts</th>\n",
       "      <th>HasCrCard</th>\n",
       "      <th>IsActiveMember</th>\n",
       "      <th>EstimatedSalary</th>\n",
       "      <th>Exited</th>\n",
       "    </tr>\n",
       "  </thead>\n",
       "  <tbody>\n",
       "    <tr>\n",
       "      <th>0</th>\n",
       "      <td>1</td>\n",
       "      <td>15634602</td>\n",
       "      <td>Hargrave</td>\n",
       "      <td>619</td>\n",
       "      <td>France</td>\n",
       "      <td>Female</td>\n",
       "      <td>42</td>\n",
       "      <td>2.0</td>\n",
       "      <td>0.00</td>\n",
       "      <td>1</td>\n",
       "      <td>1</td>\n",
       "      <td>1</td>\n",
       "      <td>101348.88</td>\n",
       "      <td>1</td>\n",
       "    </tr>\n",
       "    <tr>\n",
       "      <th>1</th>\n",
       "      <td>2</td>\n",
       "      <td>15647311</td>\n",
       "      <td>Hill</td>\n",
       "      <td>608</td>\n",
       "      <td>Spain</td>\n",
       "      <td>Female</td>\n",
       "      <td>41</td>\n",
       "      <td>1.0</td>\n",
       "      <td>83807.86</td>\n",
       "      <td>1</td>\n",
       "      <td>0</td>\n",
       "      <td>1</td>\n",
       "      <td>112542.58</td>\n",
       "      <td>0</td>\n",
       "    </tr>\n",
       "    <tr>\n",
       "      <th>2</th>\n",
       "      <td>3</td>\n",
       "      <td>15619304</td>\n",
       "      <td>Onio</td>\n",
       "      <td>502</td>\n",
       "      <td>France</td>\n",
       "      <td>Female</td>\n",
       "      <td>42</td>\n",
       "      <td>8.0</td>\n",
       "      <td>159660.80</td>\n",
       "      <td>3</td>\n",
       "      <td>1</td>\n",
       "      <td>0</td>\n",
       "      <td>113931.57</td>\n",
       "      <td>1</td>\n",
       "    </tr>\n",
       "    <tr>\n",
       "      <th>3</th>\n",
       "      <td>4</td>\n",
       "      <td>15701354</td>\n",
       "      <td>Boni</td>\n",
       "      <td>699</td>\n",
       "      <td>France</td>\n",
       "      <td>Female</td>\n",
       "      <td>39</td>\n",
       "      <td>1.0</td>\n",
       "      <td>0.00</td>\n",
       "      <td>2</td>\n",
       "      <td>0</td>\n",
       "      <td>0</td>\n",
       "      <td>93826.63</td>\n",
       "      <td>0</td>\n",
       "    </tr>\n",
       "    <tr>\n",
       "      <th>4</th>\n",
       "      <td>5</td>\n",
       "      <td>15737888</td>\n",
       "      <td>Mitchell</td>\n",
       "      <td>850</td>\n",
       "      <td>Spain</td>\n",
       "      <td>Female</td>\n",
       "      <td>43</td>\n",
       "      <td>2.0</td>\n",
       "      <td>125510.82</td>\n",
       "      <td>1</td>\n",
       "      <td>1</td>\n",
       "      <td>1</td>\n",
       "      <td>79084.10</td>\n",
       "      <td>0</td>\n",
       "    </tr>\n",
       "  </tbody>\n",
       "</table>\n",
       "</div>"
      ],
      "text/plain": [
       "   RowNumber  CustomerId   Surname  CreditScore Geography  Gender  Age  \\\n",
       "0          1    15634602  Hargrave          619    France  Female   42   \n",
       "1          2    15647311      Hill          608     Spain  Female   41   \n",
       "2          3    15619304      Onio          502    France  Female   42   \n",
       "3          4    15701354      Boni          699    France  Female   39   \n",
       "4          5    15737888  Mitchell          850     Spain  Female   43   \n",
       "\n",
       "   Tenure    Balance  NumOfProducts  HasCrCard  IsActiveMember  \\\n",
       "0     2.0       0.00              1          1               1   \n",
       "1     1.0   83807.86              1          0               1   \n",
       "2     8.0  159660.80              3          1               0   \n",
       "3     1.0       0.00              2          0               0   \n",
       "4     2.0  125510.82              1          1               1   \n",
       "\n",
       "   EstimatedSalary  Exited  \n",
       "0        101348.88       1  \n",
       "1        112542.58       0  \n",
       "2        113931.57       1  \n",
       "3         93826.63       0  \n",
       "4         79084.10       0  "
      ]
     },
     "metadata": {},
     "output_type": "display_data"
    },
    {
     "name": "stdout",
     "output_type": "stream",
     "text": [
      "----------------------------------------------------------------------------------------------------\n",
      "Info:\n",
      "\n",
      "<class 'pandas.core.frame.DataFrame'>\n",
      "RangeIndex: 10000 entries, 0 to 9999\n",
      "Data columns (total 14 columns):\n",
      " #   Column           Non-Null Count  Dtype  \n",
      "---  ------           --------------  -----  \n",
      " 0   RowNumber        10000 non-null  int64  \n",
      " 1   CustomerId       10000 non-null  int64  \n",
      " 2   Surname          10000 non-null  object \n",
      " 3   CreditScore      10000 non-null  int64  \n",
      " 4   Geography        10000 non-null  object \n",
      " 5   Gender           10000 non-null  object \n",
      " 6   Age              10000 non-null  int64  \n",
      " 7   Tenure           9091 non-null   float64\n",
      " 8   Balance          10000 non-null  float64\n",
      " 9   NumOfProducts    10000 non-null  int64  \n",
      " 10  HasCrCard        10000 non-null  int64  \n",
      " 11  IsActiveMember   10000 non-null  int64  \n",
      " 12  EstimatedSalary  10000 non-null  float64\n",
      " 13  Exited           10000 non-null  int64  \n",
      "dtypes: float64(3), int64(8), object(3)\n",
      "memory usage: 1.1+ MB\n"
     ]
    },
    {
     "data": {
      "text/plain": [
       "None"
      ]
     },
     "metadata": {},
     "output_type": "display_data"
    },
    {
     "name": "stdout",
     "output_type": "stream",
     "text": [
      "----------------------------------------------------------------------------------------------------\n",
      "Describe:\n",
      "\n"
     ]
    },
    {
     "data": {
      "text/html": [
       "<div>\n",
       "<style scoped>\n",
       "    .dataframe tbody tr th:only-of-type {\n",
       "        vertical-align: middle;\n",
       "    }\n",
       "\n",
       "    .dataframe tbody tr th {\n",
       "        vertical-align: top;\n",
       "    }\n",
       "\n",
       "    .dataframe thead th {\n",
       "        text-align: right;\n",
       "    }\n",
       "</style>\n",
       "<table border=\"1\" class=\"dataframe\">\n",
       "  <thead>\n",
       "    <tr style=\"text-align: right;\">\n",
       "      <th></th>\n",
       "      <th>RowNumber</th>\n",
       "      <th>CustomerId</th>\n",
       "      <th>CreditScore</th>\n",
       "      <th>Age</th>\n",
       "      <th>Tenure</th>\n",
       "      <th>Balance</th>\n",
       "      <th>NumOfProducts</th>\n",
       "      <th>HasCrCard</th>\n",
       "      <th>IsActiveMember</th>\n",
       "      <th>EstimatedSalary</th>\n",
       "      <th>Exited</th>\n",
       "    </tr>\n",
       "  </thead>\n",
       "  <tbody>\n",
       "    <tr>\n",
       "      <th>count</th>\n",
       "      <td>10000.00000</td>\n",
       "      <td>1.000000e+04</td>\n",
       "      <td>10000.000000</td>\n",
       "      <td>10000.000000</td>\n",
       "      <td>9091.000000</td>\n",
       "      <td>10000.000000</td>\n",
       "      <td>10000.000000</td>\n",
       "      <td>10000.00000</td>\n",
       "      <td>10000.000000</td>\n",
       "      <td>10000.000000</td>\n",
       "      <td>10000.000000</td>\n",
       "    </tr>\n",
       "    <tr>\n",
       "      <th>mean</th>\n",
       "      <td>5000.50000</td>\n",
       "      <td>1.569094e+07</td>\n",
       "      <td>650.528800</td>\n",
       "      <td>38.921800</td>\n",
       "      <td>4.997690</td>\n",
       "      <td>76485.889288</td>\n",
       "      <td>1.530200</td>\n",
       "      <td>0.70550</td>\n",
       "      <td>0.515100</td>\n",
       "      <td>100090.239881</td>\n",
       "      <td>0.203700</td>\n",
       "    </tr>\n",
       "    <tr>\n",
       "      <th>std</th>\n",
       "      <td>2886.89568</td>\n",
       "      <td>7.193619e+04</td>\n",
       "      <td>96.653299</td>\n",
       "      <td>10.487806</td>\n",
       "      <td>2.894723</td>\n",
       "      <td>62397.405202</td>\n",
       "      <td>0.581654</td>\n",
       "      <td>0.45584</td>\n",
       "      <td>0.499797</td>\n",
       "      <td>57510.492818</td>\n",
       "      <td>0.402769</td>\n",
       "    </tr>\n",
       "    <tr>\n",
       "      <th>min</th>\n",
       "      <td>1.00000</td>\n",
       "      <td>1.556570e+07</td>\n",
       "      <td>350.000000</td>\n",
       "      <td>18.000000</td>\n",
       "      <td>0.000000</td>\n",
       "      <td>0.000000</td>\n",
       "      <td>1.000000</td>\n",
       "      <td>0.00000</td>\n",
       "      <td>0.000000</td>\n",
       "      <td>11.580000</td>\n",
       "      <td>0.000000</td>\n",
       "    </tr>\n",
       "    <tr>\n",
       "      <th>25%</th>\n",
       "      <td>2500.75000</td>\n",
       "      <td>1.562853e+07</td>\n",
       "      <td>584.000000</td>\n",
       "      <td>32.000000</td>\n",
       "      <td>2.000000</td>\n",
       "      <td>0.000000</td>\n",
       "      <td>1.000000</td>\n",
       "      <td>0.00000</td>\n",
       "      <td>0.000000</td>\n",
       "      <td>51002.110000</td>\n",
       "      <td>0.000000</td>\n",
       "    </tr>\n",
       "    <tr>\n",
       "      <th>50%</th>\n",
       "      <td>5000.50000</td>\n",
       "      <td>1.569074e+07</td>\n",
       "      <td>652.000000</td>\n",
       "      <td>37.000000</td>\n",
       "      <td>5.000000</td>\n",
       "      <td>97198.540000</td>\n",
       "      <td>1.000000</td>\n",
       "      <td>1.00000</td>\n",
       "      <td>1.000000</td>\n",
       "      <td>100193.915000</td>\n",
       "      <td>0.000000</td>\n",
       "    </tr>\n",
       "    <tr>\n",
       "      <th>75%</th>\n",
       "      <td>7500.25000</td>\n",
       "      <td>1.575323e+07</td>\n",
       "      <td>718.000000</td>\n",
       "      <td>44.000000</td>\n",
       "      <td>7.000000</td>\n",
       "      <td>127644.240000</td>\n",
       "      <td>2.000000</td>\n",
       "      <td>1.00000</td>\n",
       "      <td>1.000000</td>\n",
       "      <td>149388.247500</td>\n",
       "      <td>0.000000</td>\n",
       "    </tr>\n",
       "    <tr>\n",
       "      <th>max</th>\n",
       "      <td>10000.00000</td>\n",
       "      <td>1.581569e+07</td>\n",
       "      <td>850.000000</td>\n",
       "      <td>92.000000</td>\n",
       "      <td>10.000000</td>\n",
       "      <td>250898.090000</td>\n",
       "      <td>4.000000</td>\n",
       "      <td>1.00000</td>\n",
       "      <td>1.000000</td>\n",
       "      <td>199992.480000</td>\n",
       "      <td>1.000000</td>\n",
       "    </tr>\n",
       "  </tbody>\n",
       "</table>\n",
       "</div>"
      ],
      "text/plain": [
       "         RowNumber    CustomerId   CreditScore           Age       Tenure  \\\n",
       "count  10000.00000  1.000000e+04  10000.000000  10000.000000  9091.000000   \n",
       "mean    5000.50000  1.569094e+07    650.528800     38.921800     4.997690   \n",
       "std     2886.89568  7.193619e+04     96.653299     10.487806     2.894723   \n",
       "min        1.00000  1.556570e+07    350.000000     18.000000     0.000000   \n",
       "25%     2500.75000  1.562853e+07    584.000000     32.000000     2.000000   \n",
       "50%     5000.50000  1.569074e+07    652.000000     37.000000     5.000000   \n",
       "75%     7500.25000  1.575323e+07    718.000000     44.000000     7.000000   \n",
       "max    10000.00000  1.581569e+07    850.000000     92.000000    10.000000   \n",
       "\n",
       "             Balance  NumOfProducts    HasCrCard  IsActiveMember  \\\n",
       "count   10000.000000   10000.000000  10000.00000    10000.000000   \n",
       "mean    76485.889288       1.530200      0.70550        0.515100   \n",
       "std     62397.405202       0.581654      0.45584        0.499797   \n",
       "min         0.000000       1.000000      0.00000        0.000000   \n",
       "25%         0.000000       1.000000      0.00000        0.000000   \n",
       "50%     97198.540000       1.000000      1.00000        1.000000   \n",
       "75%    127644.240000       2.000000      1.00000        1.000000   \n",
       "max    250898.090000       4.000000      1.00000        1.000000   \n",
       "\n",
       "       EstimatedSalary        Exited  \n",
       "count     10000.000000  10000.000000  \n",
       "mean     100090.239881      0.203700  \n",
       "std       57510.492818      0.402769  \n",
       "min          11.580000      0.000000  \n",
       "25%       51002.110000      0.000000  \n",
       "50%      100193.915000      0.000000  \n",
       "75%      149388.247500      0.000000  \n",
       "max      199992.480000      1.000000  "
      ]
     },
     "metadata": {},
     "output_type": "display_data"
    },
    {
     "name": "stdout",
     "output_type": "stream",
     "text": [
      "----------------------------------------------------------------------------------------------------\n"
     ]
    },
    {
     "data": {
      "text/html": [
       "<div>\n",
       "<style scoped>\n",
       "    .dataframe tbody tr th:only-of-type {\n",
       "        vertical-align: middle;\n",
       "    }\n",
       "\n",
       "    .dataframe tbody tr th {\n",
       "        vertical-align: top;\n",
       "    }\n",
       "\n",
       "    .dataframe thead th {\n",
       "        text-align: right;\n",
       "    }\n",
       "</style>\n",
       "<table border=\"1\" class=\"dataframe\">\n",
       "  <thead>\n",
       "    <tr style=\"text-align: right;\">\n",
       "      <th></th>\n",
       "      <th>Surname</th>\n",
       "      <th>Geography</th>\n",
       "      <th>Gender</th>\n",
       "    </tr>\n",
       "  </thead>\n",
       "  <tbody>\n",
       "    <tr>\n",
       "      <th>count</th>\n",
       "      <td>10000</td>\n",
       "      <td>10000</td>\n",
       "      <td>10000</td>\n",
       "    </tr>\n",
       "    <tr>\n",
       "      <th>unique</th>\n",
       "      <td>2932</td>\n",
       "      <td>3</td>\n",
       "      <td>2</td>\n",
       "    </tr>\n",
       "    <tr>\n",
       "      <th>top</th>\n",
       "      <td>Smith</td>\n",
       "      <td>France</td>\n",
       "      <td>Male</td>\n",
       "    </tr>\n",
       "    <tr>\n",
       "      <th>freq</th>\n",
       "      <td>32</td>\n",
       "      <td>5014</td>\n",
       "      <td>5457</td>\n",
       "    </tr>\n",
       "  </tbody>\n",
       "</table>\n",
       "</div>"
      ],
      "text/plain": [
       "       Surname Geography Gender\n",
       "count    10000     10000  10000\n",
       "unique    2932         3      2\n",
       "top      Smith    France   Male\n",
       "freq        32      5014   5457"
      ]
     },
     "metadata": {},
     "output_type": "display_data"
    },
    {
     "name": "stdout",
     "output_type": "stream",
     "text": [
      "\n",
      "Columns with nulls:\n",
      "Column Tenure has 9.0900% percent of Nulls, and 909 of nulls\n",
      "\u001b[1mThere are 1 columns with NA.\u001b[0m\n"
     ]
    },
    {
     "data": {
      "text/plain": [
       "None"
      ]
     },
     "metadata": {},
     "output_type": "display_data"
    },
    {
     "name": "stdout",
     "output_type": "stream",
     "text": [
      "----------------------------------------------------------------------------------------------------\n",
      "Shape:\n",
      "(10000, 14)\n",
      "----------------------------------------------------------------------------------------------------\n",
      "Duplicated:\n",
      "\u001b[1mWe have 0 duplicated rows.\n",
      "\u001b[0m\n",
      "\n"
     ]
    }
   ],
   "source": [
    "# study the general information about the dataset \n",
    "print('General information about the dataframe')\n",
    "get_info(df)"
   ]
  },
  {
   "cell_type": "markdown",
   "metadata": {
    "id": "ByKFq7ZqRCIO"
   },
   "source": [
    "**Conclusion**\n",
    "\n",
    "From the information about the dataset, we have 10000 rows and 14 features. Looking at the dataset, we can see that about 9% of the data is missing in the `Tenure` column. We should also note that the missing values are *missing at random (MAR)*. To handle this missing values, we could either drop them entirely since the percentage of missing values is less than 10% or replace by the median of the column. Also, we need to correct the datatype from float to int in the `Tenure`, `Balance` and `EstimatedSalary` columns.  "
   ]
  },
  {
   "cell_type": "markdown",
   "metadata": {
    "id": "9Y8rgNL5RCIP"
   },
   "source": [
    "<div id=\"data_preparation\">\n",
    "    <h2>Prepare the data</h2> \n",
    "</div>"
   ]
  },
  {
   "cell_type": "markdown",
   "metadata": {
    "id": "EZVLDz5yRCIP"
   },
   "source": [
    "#### Processing Missing Values"
   ]
  },
  {
   "cell_type": "markdown",
   "metadata": {
    "id": "A75YT4caRCIP"
   },
   "source": [
    "##### Prepare `Tenure` column"
   ]
  },
  {
   "cell_type": "markdown",
   "metadata": {
    "id": "qX8NPRmpRCIP"
   },
   "source": [
    "To replace missing values in the `Tenure` column, we first get the unique values of `Surname`, then get the list of possible `Tenure` for those names. We then choose a random value from the list (excluding the nan values) and assign that to the missing tenure for that surname in the dataframe. For unique surname with an empty list, we use the median of the value in the `Tenure` column."
   ]
  },
  {
   "cell_type": "code",
   "execution_count": 5,
   "metadata": {
    "id": "katAVk5DRCIP"
   },
   "outputs": [],
   "source": [
    "# replace missing values in the Tenure column\n",
    "# get unique values of name from this dataframe\n",
    "for surname in df['Surname'].unique().tolist():\n",
    "    # get specific 'Surname' possible Tenure\n",
    "    specific_surname_df = df[df['Surname'] == surname].dropna()['Tenure']\n",
    "    surname_tenure_list = specific_surname_df.unique().tolist()\n",
    "    # for the missing values, assign a random choice of the tenure for that surname. The default is the median of the 'Tenure'\n",
    "    if surname_tenure_list != []:\n",
    "        df.loc[(df['Surname'] == surname) & (df['Tenure'] != df['Tenure']), 'Tenure'] = random.choice(surname_tenure_list)\n",
    "    else:\n",
    "        df.loc[(df['Surname'] == surname) & (df['Tenure'] != df['Tenure']), 'Tenure'] = df['Tenure'].median()"
   ]
  },
  {
   "cell_type": "markdown",
   "metadata": {
    "id": "khUllxrARCIQ"
   },
   "source": [
    "We have replaced missing values in the `Tenure` column based on the condition we specified. Let's look at the statistics of the dataframe."
   ]
  },
  {
   "cell_type": "code",
   "execution_count": 6,
   "metadata": {
    "colab": {
     "base_uri": "https://localhost:8080/",
     "height": 317
    },
    "id": "vJoMJ0pLRCIQ",
    "outputId": "0eb66a9f-8f7e-4d2d-fb74-90babfe5bed8"
   },
   "outputs": [
    {
     "data": {
      "text/html": [
       "<div>\n",
       "<style scoped>\n",
       "    .dataframe tbody tr th:only-of-type {\n",
       "        vertical-align: middle;\n",
       "    }\n",
       "\n",
       "    .dataframe tbody tr th {\n",
       "        vertical-align: top;\n",
       "    }\n",
       "\n",
       "    .dataframe thead th {\n",
       "        text-align: right;\n",
       "    }\n",
       "</style>\n",
       "<table border=\"1\" class=\"dataframe\">\n",
       "  <thead>\n",
       "    <tr style=\"text-align: right;\">\n",
       "      <th></th>\n",
       "      <th>RowNumber</th>\n",
       "      <th>CustomerId</th>\n",
       "      <th>CreditScore</th>\n",
       "      <th>Age</th>\n",
       "      <th>Tenure</th>\n",
       "      <th>Balance</th>\n",
       "      <th>NumOfProducts</th>\n",
       "      <th>HasCrCard</th>\n",
       "      <th>IsActiveMember</th>\n",
       "      <th>EstimatedSalary</th>\n",
       "      <th>Exited</th>\n",
       "    </tr>\n",
       "  </thead>\n",
       "  <tbody>\n",
       "    <tr>\n",
       "      <th>count</th>\n",
       "      <td>10000.00000</td>\n",
       "      <td>1.000000e+04</td>\n",
       "      <td>10000.000000</td>\n",
       "      <td>10000.000000</td>\n",
       "      <td>10000.00000</td>\n",
       "      <td>10000.000000</td>\n",
       "      <td>10000.000000</td>\n",
       "      <td>10000.00000</td>\n",
       "      <td>10000.000000</td>\n",
       "      <td>10000.000000</td>\n",
       "      <td>10000.000000</td>\n",
       "    </tr>\n",
       "    <tr>\n",
       "      <th>mean</th>\n",
       "      <td>5000.50000</td>\n",
       "      <td>1.569094e+07</td>\n",
       "      <td>650.528800</td>\n",
       "      <td>38.921800</td>\n",
       "      <td>5.00910</td>\n",
       "      <td>76485.889288</td>\n",
       "      <td>1.530200</td>\n",
       "      <td>0.70550</td>\n",
       "      <td>0.515100</td>\n",
       "      <td>100090.239881</td>\n",
       "      <td>0.203700</td>\n",
       "    </tr>\n",
       "    <tr>\n",
       "      <th>std</th>\n",
       "      <td>2886.89568</td>\n",
       "      <td>7.193619e+04</td>\n",
       "      <td>96.653299</td>\n",
       "      <td>10.487806</td>\n",
       "      <td>2.87476</td>\n",
       "      <td>62397.405202</td>\n",
       "      <td>0.581654</td>\n",
       "      <td>0.45584</td>\n",
       "      <td>0.499797</td>\n",
       "      <td>57510.492818</td>\n",
       "      <td>0.402769</td>\n",
       "    </tr>\n",
       "    <tr>\n",
       "      <th>min</th>\n",
       "      <td>1.00000</td>\n",
       "      <td>1.556570e+07</td>\n",
       "      <td>350.000000</td>\n",
       "      <td>18.000000</td>\n",
       "      <td>0.00000</td>\n",
       "      <td>0.000000</td>\n",
       "      <td>1.000000</td>\n",
       "      <td>0.00000</td>\n",
       "      <td>0.000000</td>\n",
       "      <td>11.580000</td>\n",
       "      <td>0.000000</td>\n",
       "    </tr>\n",
       "    <tr>\n",
       "      <th>25%</th>\n",
       "      <td>2500.75000</td>\n",
       "      <td>1.562853e+07</td>\n",
       "      <td>584.000000</td>\n",
       "      <td>32.000000</td>\n",
       "      <td>3.00000</td>\n",
       "      <td>0.000000</td>\n",
       "      <td>1.000000</td>\n",
       "      <td>0.00000</td>\n",
       "      <td>0.000000</td>\n",
       "      <td>51002.110000</td>\n",
       "      <td>0.000000</td>\n",
       "    </tr>\n",
       "    <tr>\n",
       "      <th>50%</th>\n",
       "      <td>5000.50000</td>\n",
       "      <td>1.569074e+07</td>\n",
       "      <td>652.000000</td>\n",
       "      <td>37.000000</td>\n",
       "      <td>5.00000</td>\n",
       "      <td>97198.540000</td>\n",
       "      <td>1.000000</td>\n",
       "      <td>1.00000</td>\n",
       "      <td>1.000000</td>\n",
       "      <td>100193.915000</td>\n",
       "      <td>0.000000</td>\n",
       "    </tr>\n",
       "    <tr>\n",
       "      <th>75%</th>\n",
       "      <td>7500.25000</td>\n",
       "      <td>1.575323e+07</td>\n",
       "      <td>718.000000</td>\n",
       "      <td>44.000000</td>\n",
       "      <td>7.00000</td>\n",
       "      <td>127644.240000</td>\n",
       "      <td>2.000000</td>\n",
       "      <td>1.00000</td>\n",
       "      <td>1.000000</td>\n",
       "      <td>149388.247500</td>\n",
       "      <td>0.000000</td>\n",
       "    </tr>\n",
       "    <tr>\n",
       "      <th>max</th>\n",
       "      <td>10000.00000</td>\n",
       "      <td>1.581569e+07</td>\n",
       "      <td>850.000000</td>\n",
       "      <td>92.000000</td>\n",
       "      <td>10.00000</td>\n",
       "      <td>250898.090000</td>\n",
       "      <td>4.000000</td>\n",
       "      <td>1.00000</td>\n",
       "      <td>1.000000</td>\n",
       "      <td>199992.480000</td>\n",
       "      <td>1.000000</td>\n",
       "    </tr>\n",
       "  </tbody>\n",
       "</table>\n",
       "</div>"
      ],
      "text/plain": [
       "         RowNumber    CustomerId   CreditScore           Age       Tenure  \\\n",
       "count  10000.00000  1.000000e+04  10000.000000  10000.000000  10000.00000   \n",
       "mean    5000.50000  1.569094e+07    650.528800     38.921800      5.00910   \n",
       "std     2886.89568  7.193619e+04     96.653299     10.487806      2.87476   \n",
       "min        1.00000  1.556570e+07    350.000000     18.000000      0.00000   \n",
       "25%     2500.75000  1.562853e+07    584.000000     32.000000      3.00000   \n",
       "50%     5000.50000  1.569074e+07    652.000000     37.000000      5.00000   \n",
       "75%     7500.25000  1.575323e+07    718.000000     44.000000      7.00000   \n",
       "max    10000.00000  1.581569e+07    850.000000     92.000000     10.00000   \n",
       "\n",
       "             Balance  NumOfProducts    HasCrCard  IsActiveMember  \\\n",
       "count   10000.000000   10000.000000  10000.00000    10000.000000   \n",
       "mean    76485.889288       1.530200      0.70550        0.515100   \n",
       "std     62397.405202       0.581654      0.45584        0.499797   \n",
       "min         0.000000       1.000000      0.00000        0.000000   \n",
       "25%         0.000000       1.000000      0.00000        0.000000   \n",
       "50%     97198.540000       1.000000      1.00000        1.000000   \n",
       "75%    127644.240000       2.000000      1.00000        1.000000   \n",
       "max    250898.090000       4.000000      1.00000        1.000000   \n",
       "\n",
       "       EstimatedSalary        Exited  \n",
       "count     10000.000000  10000.000000  \n",
       "mean     100090.239881      0.203700  \n",
       "std       57510.492818      0.402769  \n",
       "min          11.580000      0.000000  \n",
       "25%       51002.110000      0.000000  \n",
       "50%      100193.915000      0.000000  \n",
       "75%      149388.247500      0.000000  \n",
       "max      199992.480000      1.000000  "
      ]
     },
     "execution_count": 6,
     "metadata": {},
     "output_type": "execute_result"
    }
   ],
   "source": [
    "# check the statistics of the new dataframe\n",
    "df.describe()"
   ]
  },
  {
   "cell_type": "code",
   "execution_count": 7,
   "metadata": {
    "colab": {
     "base_uri": "https://localhost:8080/"
    },
    "id": "7kAYWdZbRCIQ",
    "outputId": "79d42563-98c9-48ed-e48c-3494db3f40cb"
   },
   "outputs": [
    {
     "data": {
      "text/plain": [
       "RowNumber          0\n",
       "CustomerId         0\n",
       "Surname            0\n",
       "CreditScore        0\n",
       "Geography          0\n",
       "Gender             0\n",
       "Age                0\n",
       "Tenure             0\n",
       "Balance            0\n",
       "NumOfProducts      0\n",
       "HasCrCard          0\n",
       "IsActiveMember     0\n",
       "EstimatedSalary    0\n",
       "Exited             0\n",
       "dtype: int64"
      ]
     },
     "execution_count": 7,
     "metadata": {},
     "output_type": "execute_result"
    }
   ],
   "source": [
    "# re-check for missing values\n",
    "df.isna().sum()"
   ]
  },
  {
   "cell_type": "code",
   "execution_count": 8,
   "metadata": {
    "id": "xNTlfSGMRCIR"
   },
   "outputs": [],
   "source": [
    "# convert data to the correct data type\n",
    "def convert_to_type(df, cols, type_val):\n",
    "    for col in cols:\n",
    "        df[col] = df[col].astype(type_val)\n",
    "        \n",
    "convert_to_type(df, ['Surname', 'Geography', 'Gender'], str)\n",
    "convert_to_type(df, ['RowNumber', 'CustomerId', 'CreditScore', 'Age', 'Tenure', 'NumOfProducts', 'HasCrCard', 'IsActiveMember', 'Exited'], 'int64')\n",
    "convert_to_type(df, ['Balance', 'EstimatedSalary'], float)"
   ]
  },
  {
   "cell_type": "code",
   "execution_count": 9,
   "metadata": {
    "colab": {
     "base_uri": "https://localhost:8080/"
    },
    "id": "Dwu4h2tuRCIR",
    "outputId": "c95e9739-f778-4454-b6d7-0efd1ba67a9e"
   },
   "outputs": [
    {
     "name": "stdout",
     "output_type": "stream",
     "text": [
      "<class 'pandas.core.frame.DataFrame'>\n",
      "RangeIndex: 10000 entries, 0 to 9999\n",
      "Data columns (total 14 columns):\n",
      " #   Column           Non-Null Count  Dtype  \n",
      "---  ------           --------------  -----  \n",
      " 0   RowNumber        10000 non-null  int64  \n",
      " 1   CustomerId       10000 non-null  int64  \n",
      " 2   Surname          10000 non-null  object \n",
      " 3   CreditScore      10000 non-null  int64  \n",
      " 4   Geography        10000 non-null  object \n",
      " 5   Gender           10000 non-null  object \n",
      " 6   Age              10000 non-null  int64  \n",
      " 7   Tenure           10000 non-null  int64  \n",
      " 8   Balance          10000 non-null  float64\n",
      " 9   NumOfProducts    10000 non-null  int64  \n",
      " 10  HasCrCard        10000 non-null  int64  \n",
      " 11  IsActiveMember   10000 non-null  int64  \n",
      " 12  EstimatedSalary  10000 non-null  float64\n",
      " 13  Exited           10000 non-null  int64  \n",
      "dtypes: float64(2), int64(9), object(3)\n",
      "memory usage: 1.1+ MB\n"
     ]
    }
   ],
   "source": [
    "# information about the dataset\n",
    "df.info()"
   ]
  },
  {
   "cell_type": "markdown",
   "metadata": {
    "id": "GK5vhqeKRCIS"
   },
   "source": [
    "Now we don't have any missing values and we have changed the datatype in the dataset. Replacing the missing values seems like a better option than dropping the columns with missing values. Care should be taken when replacing missing values. We don't want to create bias or variance in our dataset. The data has been cleaned and so it is ready for feature engineering and machine learning. "
   ]
  },
  {
   "cell_type": "markdown",
   "metadata": {
    "id": "OeDQwau1RCIS"
   },
   "source": [
    "<div id=\"feature_engineering\">\n",
    "    <h2>Feature engineering</h2> \n",
    "</div>"
   ]
  },
  {
   "cell_type": "markdown",
   "metadata": {
    "id": "BfDqktSIRCIT"
   },
   "source": [
    "#### Feature preparation"
   ]
  },
  {
   "cell_type": "markdown",
   "metadata": {
    "id": "N7Bbkm1CRCIT"
   },
   "source": [
    "In this section, we carry out feature engineering and one-hot encoding for the categorical features. We will use one-hot encoding to transform categorical features to numerical features. To do that we have to first create dummy variable and then apply one-hot encoding for categorical features. First, we drop unimportant features like `CustomerId`, `RowNumber` and `Surname` from the dataframe before proceeding with one-hot encoding."
   ]
  },
  {
   "cell_type": "code",
   "execution_count": 10,
   "metadata": {},
   "outputs": [
    {
     "data": {
      "text/html": [
       "<div>\n",
       "<style scoped>\n",
       "    .dataframe tbody tr th:only-of-type {\n",
       "        vertical-align: middle;\n",
       "    }\n",
       "\n",
       "    .dataframe tbody tr th {\n",
       "        vertical-align: top;\n",
       "    }\n",
       "\n",
       "    .dataframe thead th {\n",
       "        text-align: right;\n",
       "    }\n",
       "</style>\n",
       "<table border=\"1\" class=\"dataframe\">\n",
       "  <thead>\n",
       "    <tr style=\"text-align: right;\">\n",
       "      <th></th>\n",
       "      <th>CreditScore</th>\n",
       "      <th>Geography</th>\n",
       "      <th>Gender</th>\n",
       "      <th>Age</th>\n",
       "      <th>Tenure</th>\n",
       "      <th>Balance</th>\n",
       "      <th>NumOfProducts</th>\n",
       "      <th>HasCrCard</th>\n",
       "      <th>IsActiveMember</th>\n",
       "      <th>EstimatedSalary</th>\n",
       "      <th>Exited</th>\n",
       "    </tr>\n",
       "  </thead>\n",
       "  <tbody>\n",
       "    <tr>\n",
       "      <th>0</th>\n",
       "      <td>619</td>\n",
       "      <td>France</td>\n",
       "      <td>Female</td>\n",
       "      <td>42</td>\n",
       "      <td>2</td>\n",
       "      <td>0.00</td>\n",
       "      <td>1</td>\n",
       "      <td>1</td>\n",
       "      <td>1</td>\n",
       "      <td>101348.88</td>\n",
       "      <td>1</td>\n",
       "    </tr>\n",
       "    <tr>\n",
       "      <th>1</th>\n",
       "      <td>608</td>\n",
       "      <td>Spain</td>\n",
       "      <td>Female</td>\n",
       "      <td>41</td>\n",
       "      <td>1</td>\n",
       "      <td>83807.86</td>\n",
       "      <td>1</td>\n",
       "      <td>0</td>\n",
       "      <td>1</td>\n",
       "      <td>112542.58</td>\n",
       "      <td>0</td>\n",
       "    </tr>\n",
       "    <tr>\n",
       "      <th>2</th>\n",
       "      <td>502</td>\n",
       "      <td>France</td>\n",
       "      <td>Female</td>\n",
       "      <td>42</td>\n",
       "      <td>8</td>\n",
       "      <td>159660.80</td>\n",
       "      <td>3</td>\n",
       "      <td>1</td>\n",
       "      <td>0</td>\n",
       "      <td>113931.57</td>\n",
       "      <td>1</td>\n",
       "    </tr>\n",
       "    <tr>\n",
       "      <th>3</th>\n",
       "      <td>699</td>\n",
       "      <td>France</td>\n",
       "      <td>Female</td>\n",
       "      <td>39</td>\n",
       "      <td>1</td>\n",
       "      <td>0.00</td>\n",
       "      <td>2</td>\n",
       "      <td>0</td>\n",
       "      <td>0</td>\n",
       "      <td>93826.63</td>\n",
       "      <td>0</td>\n",
       "    </tr>\n",
       "    <tr>\n",
       "      <th>4</th>\n",
       "      <td>850</td>\n",
       "      <td>Spain</td>\n",
       "      <td>Female</td>\n",
       "      <td>43</td>\n",
       "      <td>2</td>\n",
       "      <td>125510.82</td>\n",
       "      <td>1</td>\n",
       "      <td>1</td>\n",
       "      <td>1</td>\n",
       "      <td>79084.10</td>\n",
       "      <td>0</td>\n",
       "    </tr>\n",
       "  </tbody>\n",
       "</table>\n",
       "</div>"
      ],
      "text/plain": [
       "   CreditScore Geography  Gender  Age  Tenure    Balance  NumOfProducts  \\\n",
       "0          619    France  Female   42       2       0.00              1   \n",
       "1          608     Spain  Female   41       1   83807.86              1   \n",
       "2          502    France  Female   42       8  159660.80              3   \n",
       "3          699    France  Female   39       1       0.00              2   \n",
       "4          850     Spain  Female   43       2  125510.82              1   \n",
       "\n",
       "   HasCrCard  IsActiveMember  EstimatedSalary  Exited  \n",
       "0          1               1        101348.88       1  \n",
       "1          0               1        112542.58       0  \n",
       "2          1               0        113931.57       1  \n",
       "3          0               0         93826.63       0  \n",
       "4          1               1         79084.10       0  "
      ]
     },
     "execution_count": 10,
     "metadata": {},
     "output_type": "execute_result"
    }
   ],
   "source": [
    "# drop unimportant features\n",
    "df = df.drop(['CustomerId', 'RowNumber', 'Surname'], axis=1)\n",
    "df.head()"
   ]
  },
  {
   "cell_type": "code",
   "execution_count": 11,
   "metadata": {
    "colab": {
     "base_uri": "https://localhost:8080/",
     "height": 491
    },
    "id": "AXnnBClSRCIT",
    "outputId": "32413b30-887a-4786-f187-6c32ed03ecc2"
   },
   "outputs": [
    {
     "name": "stdout",
     "output_type": "stream",
     "text": [
      "The train set now contains 7000 observations representing 70% of the data\n",
      "The test set now contains 3000 observations representing 30% of the data\n",
      "\n",
      "\u001b[1mShape of features and target\u001b[0m\n",
      "------------------------------\n",
      "Train features : (7000, 11)\n",
      "Train target   : (7000,)\n",
      "Test features  : (3000, 11)\n",
      "Test target    : (3000,)\n",
      "\n"
     ]
    },
    {
     "data": {
      "text/html": [
       "<div>\n",
       "<style scoped>\n",
       "    .dataframe tbody tr th:only-of-type {\n",
       "        vertical-align: middle;\n",
       "    }\n",
       "\n",
       "    .dataframe tbody tr th {\n",
       "        vertical-align: top;\n",
       "    }\n",
       "\n",
       "    .dataframe thead th {\n",
       "        text-align: right;\n",
       "    }\n",
       "</style>\n",
       "<table border=\"1\" class=\"dataframe\">\n",
       "  <thead>\n",
       "    <tr style=\"text-align: right;\">\n",
       "      <th></th>\n",
       "      <th>CreditScore</th>\n",
       "      <th>Age</th>\n",
       "      <th>Tenure</th>\n",
       "      <th>Balance</th>\n",
       "      <th>NumOfProducts</th>\n",
       "      <th>HasCrCard</th>\n",
       "      <th>IsActiveMember</th>\n",
       "      <th>EstimatedSalary</th>\n",
       "      <th>Geography_Germany</th>\n",
       "      <th>Geography_Spain</th>\n",
       "      <th>Gender_Male</th>\n",
       "    </tr>\n",
       "  </thead>\n",
       "  <tbody>\n",
       "    <tr>\n",
       "      <th>9716</th>\n",
       "      <td>1.658077</td>\n",
       "      <td>0.012853</td>\n",
       "      <td>-0.014739</td>\n",
       "      <td>0.635477</td>\n",
       "      <td>2.527132</td>\n",
       "      <td>0.645536</td>\n",
       "      <td>0.955284</td>\n",
       "      <td>1.480907</td>\n",
       "      <td>1</td>\n",
       "      <td>0</td>\n",
       "      <td>1</td>\n",
       "    </tr>\n",
       "    <tr>\n",
       "      <th>224</th>\n",
       "      <td>0.198643</td>\n",
       "      <td>0.584111</td>\n",
       "      <td>0.335005</td>\n",
       "      <td>0.375870</td>\n",
       "      <td>-0.895510</td>\n",
       "      <td>0.645536</td>\n",
       "      <td>0.955284</td>\n",
       "      <td>0.153167</td>\n",
       "      <td>1</td>\n",
       "      <td>0</td>\n",
       "      <td>1</td>\n",
       "    </tr>\n",
       "    <tr>\n",
       "      <th>589</th>\n",
       "      <td>-1.374648</td>\n",
       "      <td>0.774530</td>\n",
       "      <td>0.335005</td>\n",
       "      <td>1.302947</td>\n",
       "      <td>0.815811</td>\n",
       "      <td>-1.549099</td>\n",
       "      <td>-1.046809</td>\n",
       "      <td>0.817773</td>\n",
       "      <td>0</td>\n",
       "      <td>1</td>\n",
       "      <td>0</td>\n",
       "    </tr>\n",
       "    <tr>\n",
       "      <th>7507</th>\n",
       "      <td>-0.784664</td>\n",
       "      <td>0.488901</td>\n",
       "      <td>1.384236</td>\n",
       "      <td>0.696496</td>\n",
       "      <td>-0.895510</td>\n",
       "      <td>0.645536</td>\n",
       "      <td>-1.046809</td>\n",
       "      <td>0.329403</td>\n",
       "      <td>1</td>\n",
       "      <td>0</td>\n",
       "      <td>1</td>\n",
       "    </tr>\n",
       "    <tr>\n",
       "      <th>1457</th>\n",
       "      <td>2.051400</td>\n",
       "      <td>2.583513</td>\n",
       "      <td>-0.364483</td>\n",
       "      <td>-1.222967</td>\n",
       "      <td>0.815811</td>\n",
       "      <td>-1.549099</td>\n",
       "      <td>0.955284</td>\n",
       "      <td>-0.617269</td>\n",
       "      <td>0</td>\n",
       "      <td>0</td>\n",
       "      <td>1</td>\n",
       "    </tr>\n",
       "  </tbody>\n",
       "</table>\n",
       "</div>"
      ],
      "text/plain": [
       "      CreditScore       Age    Tenure   Balance  NumOfProducts  HasCrCard  \\\n",
       "9716     1.658077  0.012853 -0.014739  0.635477       2.527132   0.645536   \n",
       "224      0.198643  0.584111  0.335005  0.375870      -0.895510   0.645536   \n",
       "589     -1.374648  0.774530  0.335005  1.302947       0.815811  -1.549099   \n",
       "7507    -0.784664  0.488901  1.384236  0.696496      -0.895510   0.645536   \n",
       "1457     2.051400  2.583513 -0.364483 -1.222967       0.815811  -1.549099   \n",
       "\n",
       "      IsActiveMember  EstimatedSalary  Geography_Germany  Geography_Spain  \\\n",
       "9716        0.955284         1.480907                  1                0   \n",
       "224         0.955284         0.153167                  1                0   \n",
       "589        -1.046809         0.817773                  0                1   \n",
       "7507       -1.046809         0.329403                  1                0   \n",
       "1457        0.955284        -0.617269                  0                0   \n",
       "\n",
       "      Gender_Male  \n",
       "9716            1  \n",
       "224             1  \n",
       "589             0  \n",
       "7507            1  \n",
       "1457            1  "
      ]
     },
     "metadata": {},
     "output_type": "display_data"
    }
   ],
   "source": [
    "# one-hot encoding of categorical features\n",
    "df_ohe = pd.get_dummies(df, drop_first=True) \n",
    "    \n",
    "# declare variables for features and target\n",
    "target = df_ohe['Exited']\n",
    "features = df_ohe.drop(['Exited'], axis=1)\n",
    "    \n",
    "# split data into training and testing \n",
    "features_train, features_test, target_train, target_test = train_test_split(\n",
    "    features, target, test_size=0.30, random_state=12345\n",
    ")\n",
    "\n",
    "# display the shape of the split dataset\n",
    "print('The train set now contains {}'.format(features_train.shape[0]) + ' observations representing 70% of the data')\n",
    "print('The test set now contains {}'.format(features_test.shape[0]) + ' observations representing 30% of the data')\n",
    "print()\n",
    "\n",
    "# numeric features in dataset\n",
    "numeric = ['CreditScore', 'Age', 'Tenure', 'Balance', 'NumOfProducts', \n",
    "           'HasCrCard', 'IsActiveMember', 'EstimatedSalary']\n",
    "\n",
    "# features scaling\n",
    "scaler = StandardScaler()\n",
    "scaler.fit(features_train[numeric])\n",
    "# transform the training set and the test set using transform()\n",
    "features_train[numeric] = scaler.transform(features_train[numeric])\n",
    "features_test[numeric]  = scaler.transform(features_test[numeric])\n",
    "    \n",
    "print(\"\\033[1m\" + 'Shape of features and target' + \"\\033[0m\")\n",
    "print('-'*30)\n",
    "print('Train features :', features_train.shape)\n",
    "print('Train target   :',target_train.shape)\n",
    "print('Test features  :',features_test.shape)\n",
    "print('Test target    :',target_test.shape)\n",
    "print()\n",
    "display(features_train.head())"
   ]
  },
  {
   "cell_type": "markdown",
   "metadata": {
    "id": "R-EhYnY4RCIU"
   },
   "source": [
    "**Conclusion**\n",
    "\n",
    "We encoded the categorical feature using one-hot encoding. By now, we have a lot of data from the one-hot encoding process. But when data is abundant, we have a chance of falling into the dummy feature trap. If we keep the features as they are now, it will hinder the training process. We have added 3 new features to our table from the one-hot encoding process, but their high correlation will confuse our model. To avoid this, we can safely remove any one column, since its values can be easily inferred from one of the other two columns (it has 1 where the other two columns have zeroes, and it has zeroes everywhere else). This way, we will not fall into the dummy trap. Pandas library has a function pd.get_dummies() that can be used for getting dummy variables. We split the data two ways into 70% training set, and 30% testing sets. Since the features have different scales, we standardized the numerical features of the data. The size of the new table is 7000 rows and 11 columns for the train features set, and 3000 rows and 11 columns for the test features set. Now the data is prepared and ready for analysis."
   ]
  },
  {
   "cell_type": "markdown",
   "metadata": {
    "id": "5aVQ3NOERCIU"
   },
   "source": [
    "<div id=\"class_balance\">\n",
    "    <h2>Examine the balance of classes</h2> \n",
    "</div>"
   ]
  },
  {
   "cell_type": "code",
   "execution_count": 12,
   "metadata": {
    "id": "JDwan5pfRCIU"
   },
   "outputs": [],
   "source": [
    "# function to calculate model evaluation metrics\n",
    "def print_model_evaluation(y_test, test_predictions):\n",
    "    print(\"\\033[1m\" + 'F1 score: ' + \"\\033[0m\", '{:.3f}'.format(f1_score(y_test, test_predictions)))\n",
    "    print(\"\\033[1m\" + 'Accuracy Score: ' + \"\\033[0m\", '{:.2%}'.format(accuracy_score(y_test, test_predictions)))\n",
    "    print(\"\\033[1m\" + 'Precision: ' + \"\\033[0m\", '{:.3f}'.format(precision_score(y_test, test_predictions)))\n",
    "    print(\"\\033[1m\" + 'Recall: ' + \"\\033[0m\", '{:.3f}'.format(recall_score(y_test, test_predictions)))\n",
    "    print(\"\\033[1m\" + 'Balanced Accuracy Score: ' + \"\\033[0m\", '{:.2%}'.format(balanced_accuracy_score(y_test, test_predictions)))\n",
    "    print(\"\\033[1m\" + 'ROC AUC Score: ' + \"\\033[0m\", '{:.2%}'.format(roc_auc_score(y_test, test_predictions)))\n",
    "    print()\n",
    "    print(\"\\033[1m\" + 'Confusion Matrix' + \"\\033[0m\")\n",
    "    print('-'*50)\n",
    "    print(confusion_matrix(y_test, test_predictions))\n",
    "    print()\n",
    "    print(\"\\033[1m\" + 'Classification report' + \"\\033[0m\")\n",
    "    print('-'*50)\n",
    "    print(classification_report(y_test, test_predictions))\n",
    "    print()"
   ]
  },
  {
   "cell_type": "markdown",
   "metadata": {},
   "source": [
    "Let's first start by looking at a baseline model and see the model evaluation score which will serve as a baseline score for the different models we will be evaluating. Since we are try to look for the best model in terms of precision and recall, we optimize the F1 score."
   ]
  },
  {
   "cell_type": "markdown",
   "metadata": {},
   "source": [
    "##### Baseline model"
   ]
  },
  {
   "cell_type": "code",
   "execution_count": 13,
   "metadata": {},
   "outputs": [],
   "source": [
    "# baseline model using a dummy classifier\n",
    "dummy_clf = DummyClassifier(strategy=\"most_frequent\")\n",
    "dummy_clf.fit(features_train, target_train)\n",
    "dummy_clf_test_predictions = dummy_clf.predict(features_test)"
   ]
  },
  {
   "cell_type": "code",
   "execution_count": 14,
   "metadata": {},
   "outputs": [
    {
     "name": "stdout",
     "output_type": "stream",
     "text": [
      "\u001b[1mF1 score: \u001b[0m 0.000\n",
      "\u001b[1mAccuracy Score: \u001b[0m 79.13%\n",
      "\u001b[1mPrecision: \u001b[0m 0.000\n",
      "\u001b[1mRecall: \u001b[0m 0.000\n",
      "\u001b[1mBalanced Accuracy Score: \u001b[0m 50.00%\n",
      "\u001b[1mROC AUC Score: \u001b[0m 50.00%\n",
      "\n",
      "\u001b[1mConfusion Matrix\u001b[0m\n",
      "--------------------------------------------------\n",
      "[[2374    0]\n",
      " [ 626    0]]\n",
      "\n",
      "\u001b[1mClassification report\u001b[0m\n",
      "--------------------------------------------------\n",
      "              precision    recall  f1-score   support\n",
      "\n",
      "           0       0.79      1.00      0.88      2374\n",
      "           1       0.00      0.00      0.00       626\n",
      "\n",
      "    accuracy                           0.79      3000\n",
      "   macro avg       0.40      0.50      0.44      3000\n",
      "weighted avg       0.63      0.79      0.70      3000\n",
      "\n",
      "\n"
     ]
    }
   ],
   "source": [
    "# evaluate baseline model\n",
    "print_model_evaluation(target_test, dummy_clf_test_predictions)"
   ]
  },
  {
   "cell_type": "markdown",
   "metadata": {},
   "source": [
    "The baseline model predicts the most frequent class in this case \"0\". This helps to check whether our model is actually learning something from the data. Looking at the baseline model report, we can see that the accuracy is high but the F1 score is 0.0. This is due to class imbalance. This goes to show that accuracy alone is not a good yardstick to evaluate the performance of the model. Next, we examine the balance of classes and train the model without taking into account the imbalance. "
   ]
  },
  {
   "cell_type": "code",
   "execution_count": 15,
   "metadata": {
    "id": "GnS83f2VRCIU"
   },
   "outputs": [],
   "source": [
    "# create the logistic regression model\n",
    "def logistic_regression(X_train, y_train, X_test, y_test):\n",
    "    \"\"\"\n",
    "    This is a logistic regression model function developed to train\n",
    "    the model, make prediction on train and test dataset, print\n",
    "    model accuracy for training and testing datasets\n",
    "    \"\"\"\n",
    "    model = LogisticRegression(random_state=12345, solver='liblinear')\n",
    "    model.fit(X_train, y_train) # train the model \n",
    "    train_predictions = model.predict(X_train) # make predictions on train set\n",
    "    test_predictions = model.predict(X_test) # make prediction on test set\n",
    "    print('F1 score for logistic regression model')\n",
    "    print('-'*35)\n",
    "    print('F1 score: {:.3f}'.format(f1_score(y_test, test_predictions)))\n",
    "    print()\n",
    "    print('The default F1-score of the logistic regression model is ' \"\\033[1m\" + \n",
    "          '{:.3f}.'.format(f1_score(y_test, test_predictions)) + \"\\033[0m\" +\n",
    "          ' The accuracy measured {:.3f}'.format(accuracy_score(y_train, train_predictions)) +\n",
    "          ' for training set and {:.3f}'.format(accuracy_score(y_test, test_predictions)) + ' for the testing set.')"
   ]
  },
  {
   "cell_type": "code",
   "execution_count": 16,
   "metadata": {
    "colab": {
     "base_uri": "https://localhost:8080/"
    },
    "id": "PkaA-dD5RCIU",
    "outputId": "eb302df4-9bc5-40bf-d668-451779fd3bef"
   },
   "outputs": [
    {
     "name": "stdout",
     "output_type": "stream",
     "text": [
      "F1 score for logistic regression model\n",
      "-----------------------------------\n",
      "F1 score: 0.304\n",
      "\n",
      "The default F1-score of the logistic regression model is \u001b[1m0.304.\u001b[0m The accuracy measured 0.815 for training set and 0.801 for the testing set.\n"
     ]
    }
   ],
   "source": [
    "# determine accuracy for logistic regression model\n",
    "logistic_regression(features_train, target_train, features_test, target_test)"
   ]
  },
  {
   "cell_type": "code",
   "execution_count": 17,
   "metadata": {
    "colab": {
     "base_uri": "https://localhost:8080/",
     "height": 313
    },
    "id": "lKEGnlssRCIV",
    "outputId": "aa8cab35-4018-4efd-d701-be8475e0235c"
   },
   "outputs": [
    {
     "name": "stdout",
     "output_type": "stream",
     "text": [
      "0    0.923333\n",
      "1    0.076667\n",
      "dtype: float64\n"
     ]
    },
    {
     "data": {
      "image/png": "[encoded data removed]",
      "text/plain": [
       "<Figure size 432x288 with 1 Axes>"
      ]
     },
     "metadata": {
      "needs_background": "light"
     },
     "output_type": "display_data"
    }
   ],
   "source": [
    "# sanity check\n",
    "model = LogisticRegression(random_state=12345, solver='liblinear')\n",
    "model.fit(features_train, target_train) # train the model \n",
    "test_predictions = pd.Series(model.predict(features_test))\n",
    "class_frequency = test_predictions.value_counts(normalize=True)\n",
    "print(class_frequency)\n",
    "class_frequency.plot(kind='bar');"
   ]
  },
  {
   "cell_type": "markdown",
   "metadata": {
    "id": "7UmGdSfVRCIV"
   },
   "source": [
    "In this section, we trained the model without taking into account the imbalance. We achieved an F1 score of 0.304. We assess the sanity of the model by checking how often the target feature contains the class \"1\" or \"0\". We can observe the class imbalance in the predicted testing set. Next we try to improve the quality of the model using two different approaches to fixing class imbalance. "
   ]
  },
  {
   "cell_type": "markdown",
   "metadata": {
    "id": "D3_-4WVnRCIV"
   },
   "source": [
    "<div id=\"improve_quality\">\n",
    "    <h2>Improve the quality of the model</h2> \n",
    "</div>"
   ]
  },
  {
   "cell_type": "markdown",
   "metadata": {
    "id": "Ho3gKWO6RCIX"
   },
   "source": [
    "We apply two different approaches to fix the class imbalance.\n",
    "- Class weight adjustment\n",
    "- Upsampling"
   ]
  },
  {
   "cell_type": "markdown",
   "metadata": {
    "id": "v2xQbnWYRCIX"
   },
   "source": [
    "##### Using Class Weight Adjustment"
   ]
  },
  {
   "cell_type": "code",
   "execution_count": 18,
   "metadata": {
    "colab": {
     "base_uri": "https://localhost:8080/"
    },
    "id": "GG0f-QIwRCIX",
    "outputId": "1fd1439f-fd77-439d-de42-0a59316d770d"
   },
   "outputs": [
    {
     "name": "stdout",
     "output_type": "stream",
     "text": [
      "F1 score with adjusted class weight: 0.496\n"
     ]
    }
   ],
   "source": [
    "# class weight adjustment\n",
    "model = LogisticRegression(random_state=12345, class_weight='balanced', solver='liblinear')\n",
    "model.fit(features_train, target_train)\n",
    "test_predictions = model.predict(features_test) \n",
    "print('F1 score with adjusted class weight: {:.3f}'.format(f1_score(target_test, test_predictions)))"
   ]
  },
  {
   "cell_type": "code",
   "execution_count": 19,
   "metadata": {
    "colab": {
     "base_uri": "https://localhost:8080/",
     "height": 313
    },
    "id": "NjwBniXkRCIX",
    "outputId": "0effa872-ca44-4838-93f0-ea5535cef782"
   },
   "outputs": [
    {
     "name": "stdout",
     "output_type": "stream",
     "text": [
      "0    0.617667\n",
      "1    0.382333\n",
      "dtype: float64\n"
     ]
    },
    {
     "data": {
      "image/png": "[encoded data removed]",
      "text/plain": [
       "<Figure size 432x288 with 1 Axes>"
      ]
     },
     "metadata": {
      "needs_background": "light"
     },
     "output_type": "display_data"
    }
   ],
   "source": [
    "# sanity check after class imbalance\n",
    "test_predictions = pd.Series(model.predict(features_test))\n",
    "class_frequency = test_predictions.value_counts(normalize=True)\n",
    "print(class_frequency)\n",
    "class_frequency.plot(kind='bar');"
   ]
  },
  {
   "cell_type": "markdown",
   "metadata": {
    "id": "paH09BVdRCIY"
   },
   "source": [
    "Here, we made the rare classes weigh more by specifying `class_weight='balanced'`. Notice how the F1 score increased to $\\approx$ 0.496 for a balanced class. "
   ]
  },
  {
   "cell_type": "markdown",
   "metadata": {
    "id": "Zhm377iHRCIY"
   },
   "source": [
    "##### By Upsampling"
   ]
  },
  {
   "cell_type": "code",
   "execution_count": 20,
   "metadata": {
    "id": "2n6byWmyRCIY"
   },
   "outputs": [],
   "source": [
    "# function to perform upsampling \n",
    "def upsample(features, target, repeat):\n",
    "    features_zeros = features[target == 0]\n",
    "    features_ones = features[target == 1]\n",
    "    target_zeros = target[target == 0]\n",
    "    target_ones = target[target == 1]\n",
    "\n",
    "    features_upsampled = pd.concat([features_zeros] + [features_ones] * repeat)\n",
    "    target_upsampled = pd.concat([target_zeros] + [target_ones] * repeat)\n",
    "\n",
    "    features_upsampled, target_upsampled = shuffle(\n",
    "        features_upsampled, target_upsampled, random_state=12345\n",
    "    )\n",
    "    return features_upsampled, target_upsampled\n",
    "\n",
    "# new training set created\n",
    "features_upsampled, target_upsampled = upsample(\n",
    "    features_train, target_train, 5\n",
    ")"
   ]
  },
  {
   "cell_type": "code",
   "execution_count": 21,
   "metadata": {
    "colab": {
     "base_uri": "https://localhost:8080/"
    },
    "id": "IA1DQ65hRCIY",
    "outputId": "22c425ea-0cdc-480d-968f-5b4945dc134c"
   },
   "outputs": [
    {
     "name": "stdout",
     "output_type": "stream",
     "text": [
      "F1 score after upsampling: 0.487\n"
     ]
    }
   ],
   "source": [
    "# F1 score after upsampling \n",
    "model = LogisticRegression(random_state=12345, solver='liblinear')\n",
    "model.fit(features_upsampled, target_upsampled)\n",
    "test_predictions = model.predict(features_test) \n",
    "print('F1 score after upsampling: {:.3f}'.format(f1_score(target_test, test_predictions)))"
   ]
  },
  {
   "cell_type": "markdown",
   "metadata": {
    "id": "5dquZJ5iRCIY"
   },
   "source": [
    "First, we split the training sample into negative and positive observations, we duplicated the positive observations and combine them with the negative class observation. Then we shuffled the data using `shuffle()` function, and trained our *LogisticRegression* model with the new data. We calculated the F1 score to be $\\approx$ 0.487. This is an improvement from the default F1 score of 0.304 calculated initially. This shows an improvement in the F1 score when the class is balanced."
   ]
  },
  {
   "cell_type": "markdown",
   "metadata": {
    "id": "m-Ecx_UDRCIZ"
   },
   "source": [
    "<div id=\"investigate_models\">\n",
    "    <h2>Investigate different models quality</h2> \n",
    "</div>"
   ]
  },
  {
   "cell_type": "code",
   "execution_count": 22,
   "metadata": {
    "id": "O3xUy1fewlqa"
   },
   "outputs": [],
   "source": [
    "# function to plot ROC curve\n",
    "def plot_roc(y_test, preds, ax=None, label='model'):\n",
    "    with plt.style.context('seaborn-whitegrid'):\n",
    "        \"\"\"\n",
    "        This function plots the ROC curve\n",
    "        \"\"\"\n",
    "        if not ax: fig, ax = plt.subplots(1, 1)\n",
    "        fpr, tpr, thresholds = roc_curve(y_test, preds)\n",
    "        ax.plot([0, 1], [0, 1],'r--')\n",
    "        ax.plot(fpr, tpr, lw=2, label=label)\n",
    "        ax.legend(loc='lower right')\n",
    "        ax.set_title(\n",
    "            'ROC curve\\n'\n",
    "            f\"\"\" AP: {average_precision_score(\n",
    "                y_test, preds, pos_label=1\n",
    "            ):.2} | \"\"\"\n",
    "            f'AUC: {auc(fpr, tpr):.2}'\n",
    "        )\n",
    "        ax.set_xlabel('False Positive Rate (FPR)')\n",
    "        ax.set_ylabel('True Positive Rate (TPR)')\n",
    "        ax.annotate(f'AUC: {auc(fpr, tpr):.2}', xy=(.43, .025))\n",
    "        ax.legend()\n",
    "        ax.grid()\n",
    "        return ax\n",
    "    \n",
    "# function to plot the precision-recall curve\n",
    "def plot_pr(y_test, preds, ax=None, label='model'):\n",
    "    with plt.style.context('seaborn-whitegrid'):\n",
    "        \"\"\"\n",
    "        This function is used to the precision-recall curve \n",
    "        \"\"\"\n",
    "        precision, recall, thresholds = precision_recall_curve(y_test, preds)\n",
    "        if not ax: fig, ax = plt.subplots()\n",
    "        ax.plot([0, 1], [1, 0],'r--')    \n",
    "        ax.plot(recall, precision, lw=2, label=label)\n",
    "        ax.legend()\n",
    "        ax.set_title(\n",
    "            'Precision-recall curve\\n'\n",
    "            f\"\"\" AP: {average_precision_score(\n",
    "                y_test, preds, pos_label=1\n",
    "            ):.2} | \"\"\"\n",
    "            f'AUC: {auc(recall, precision):.2}'\n",
    "        )\n",
    "        ax.set_xlabel('Recall')\n",
    "        ax.set_ylabel('Precision')\n",
    "        ax.set_xlim(-0.05, 1.05)\n",
    "        ax.set_ylim(-0.05, 1.05)\n",
    "        ax.legend()\n",
    "        ax.grid()\n",
    "        return ax"
   ]
  },
  {
   "cell_type": "markdown",
   "metadata": {
    "id": "GoilUtX_RCIZ"
   },
   "source": [
    "#### Hyperparameter Tuning"
   ]
  },
  {
   "cell_type": "markdown",
   "metadata": {
    "id": "rvAFUoAekT2G"
   },
   "source": [
    "We are going to try and tune the hyperparameters of the following classification algorithms. A small grid searching example is given and used as a starting point for the investigation. To speed up running this section, it is best if the code is run in google colab using google's GPU."
   ]
  },
  {
   "cell_type": "markdown",
   "metadata": {
    "id": "wAuVPvo2RCIZ"
   },
   "source": [
    "##### Decision Tree Classifier\n",
    "\n",
    "For the decision tree classifier, we iterate over different values and compare the quality of the model by tuning the `max_depth` hyperparameter. In GridSearchCV, we pass scoring='f1' to tune the target metric which is the F1-score."
   ]
  },
  {
   "cell_type": "code",
   "execution_count": 23,
   "metadata": {
    "colab": {
     "base_uri": "https://localhost:8080/"
    },
    "id": "wuf0kRw8jW98",
    "outputId": "3badc9ee-8135-4081-bad0-5aa40de8fcee"
   },
   "outputs": [
    {
     "name": "stdout",
     "output_type": "stream",
     "text": [
      "The parameters combination that would give best F1 score is : \n",
      "{'criterion': 'entropy', 'max_depth': 8, 'min_samples_leaf': 2, 'min_samples_split': 16}\n",
      "The best accuracy achieved after parameter tuning via grid search is: 0.555\n",
      "The accuracy of the model against the training data is: 0.632\n",
      "F1 score:  0.5411298315163529\n"
     ]
    }
   ],
   "source": [
    "# hyperparameter optimization for Decision tree classifier\n",
    "parameters = {\n",
    "    \"criterion\" : [\"gini\", \"entropy\"],\n",
    "    \"max_depth\" : [2, 4, 8, 16],\n",
    "    \"min_samples_split\" : [2, 4, 8, 16],\n",
    "    \"min_samples_leaf\" : [2, 4, 6]\n",
    "    }\n",
    "classifier = DecisionTreeClassifier()\n",
    "grid = GridSearchCV(classifier, parameters, scoring='f1', cv=5)\n",
    "grid.fit(features_train, target_train) \n",
    "y_pred = grid.predict(features_test)\n",
    "print('The parameters combination that would give best F1 score is : ')\n",
    "print(grid.best_params_)\n",
    "print('The best accuracy achieved after parameter tuning via grid search is: {:.3f}'.format(grid.best_score_))\n",
    "print('The accuracy of the model against the training data is: {:.3f}'.format(grid.score(features_train, target_train)))\n",
    "print('F1 score: ', f1_score(target_test, y_pred))"
   ]
  },
  {
   "cell_type": "code",
   "execution_count": 24,
   "metadata": {
    "id": "0h8Q_F1BRCIZ"
   },
   "outputs": [],
   "source": [
    "# create the decision tree classifier\n",
    "def decision_tree_classifier(X_train, y_train, X_test, y_test):\n",
    "    \"\"\"\n",
    "    This is a decision tree classifier function developed to train  \n",
    "    the model, make prediction on train and testing dataset, print\n",
    "    the F1 score and model accuracy for training and testing datasets\n",
    "    \"\"\"\n",
    "    # define lists to collect scores\n",
    "    train_scores = []\n",
    "    test_scores = []\n",
    "    f1_scores = []\n",
    "    model = DecisionTreeClassifier(**grid.best_params_) \n",
    "    model.fit(X_train, y_train) # train the model\n",
    "    # make predictions on train set\n",
    "    train_predictions = model.predict(X_train)\n",
    "    train_predictions_acc = accuracy_score(y_train, train_predictions)\n",
    "    train_scores.append(train_predictions_acc)\n",
    "    # make predictions on testing set\n",
    "    dt_test_predictions = model.predict(X_test) \n",
    "    dt_test_predictions_acc = accuracy_score(y_test, dt_test_predictions)\n",
    "    test_scores.append(dt_test_predictions_acc)\n",
    "    f1_score_ = f1_score(y_test, dt_test_predictions)\n",
    "    f1_scores.append(f1_score_)\n",
    "    scores = list(zip(f1_scores, train_scores, test_scores))\n",
    "    print('The decision tree classifier had the best ' \"\\033[1m\" + 'F1 score of {:.3f}'.format(max(scores, key = lambda x: x[0])[0]) + \"\\033[0m\" +   \n",
    "          ' and accuracy of ' \"\\033[1m\" '{:.2%}'.format(max(scores, key = lambda x: x[0])[1]) + ' for the training set' + \"\\033[0m\" + \n",
    "          ' and ' + \"\\033[1m\" '{:.2%}'.format(max(scores, key = lambda x: x[0])[2]) + ' for the testing set' + \"\\033[0m\")\n",
    "    print()\n",
    "    # evaluate decision tree classifier metric\n",
    "    print_model_evaluation(target_test, dt_test_predictions)"
   ]
  },
  {
   "cell_type": "code",
   "execution_count": 25,
   "metadata": {
    "colab": {
     "base_uri": "https://localhost:8080/"
    },
    "id": "kg6hr7ZDRCIZ",
    "outputId": "7bdaf560-7197-4238-c936-3a58aea0f66c"
   },
   "outputs": [
    {
     "name": "stdout",
     "output_type": "stream",
     "text": [
      "The decision tree classifier had the best \u001b[1mF1 score of 0.537\u001b[0m and accuracy of \u001b[1m87.90% for the training set\u001b[0m and \u001b[1m84.53% for the testing set\u001b[0m\n",
      "\n",
      "\u001b[1mF1 score: \u001b[0m 0.537\n",
      "\u001b[1mAccuracy Score: \u001b[0m 84.53%\n",
      "\u001b[1mPrecision: \u001b[0m 0.715\n",
      "\u001b[1mRecall: \u001b[0m 0.430\n",
      "\u001b[1mBalanced Accuracy Score: \u001b[0m 69.23%\n",
      "\u001b[1mROC AUC Score: \u001b[0m 69.23%\n",
      "\n",
      "\u001b[1mConfusion Matrix\u001b[0m\n",
      "--------------------------------------------------\n",
      "[[2267  107]\n",
      " [ 357  269]]\n",
      "\n",
      "\u001b[1mClassification report\u001b[0m\n",
      "--------------------------------------------------\n",
      "              precision    recall  f1-score   support\n",
      "\n",
      "           0       0.86      0.95      0.91      2374\n",
      "           1       0.72      0.43      0.54       626\n",
      "\n",
      "    accuracy                           0.85      3000\n",
      "   macro avg       0.79      0.69      0.72      3000\n",
      "weighted avg       0.83      0.85      0.83      3000\n",
      "\n",
      "\n"
     ]
    }
   ],
   "source": [
    "# determine F1 score for decision tree classifier\n",
    "decision_tree_classifier(features_train, target_train, features_test, target_test)"
   ]
  },
  {
   "cell_type": "markdown",
   "metadata": {
    "id": "46AIjXpcRCIa"
   },
   "source": [
    "We used GridSearchCV to carry out hyperparameter optimization on the `max_depth`, `criterion`, `min_samples_split`, and `min_samples_leaf` parameters. We looking for the best parameter setting for our decision tree classifier. We note that shallow decision trees (e.g. few depth) generally do not overfit but have poor performance (high bias, low variance), and deep trees (e.g. high depth) generally do overfit and have good performance (low bias, high variance). Our desirable tree depth is one that is not so shallow that it has low performance and not so deep that it overfits the training dataset. We need to have a balance between bias and variance - bias variance tradeoff. At `max_depth` of 8, we have an F1 score of 0.54, an accuracy of 87.90% for the training set, and 84.53% for the testing set."
   ]
  },
  {
   "cell_type": "markdown",
   "metadata": {
    "id": "KKDdBsG2RCIa"
   },
   "source": [
    "##### Logistic Regression Model"
   ]
  },
  {
   "cell_type": "code",
   "execution_count": 26,
   "metadata": {
    "colab": {
     "base_uri": "https://localhost:8080/"
    },
    "id": "ZPrS67ElSsP5",
    "outputId": "b738f2ff-286d-4f7e-94d9-31d7963855a6"
   },
   "outputs": [
    {
     "name": "stdout",
     "output_type": "stream",
     "text": [
      "The parameters combination that would give best F1 score is : \n",
      "{'C': 10, 'penalty': 'l2', 'solver': 'newton-cg'}\n",
      "The best accuracy achieved after parameter tuning via grid search is: 0.325\n",
      "The accuracy of the model against the training data is: 0.329\n",
      "F1 score:  0.3057176196032672\n"
     ]
    }
   ],
   "source": [
    "# hyperparameter optimization\n",
    "# define parameters\n",
    "grid = {\n",
    "    \"solver\" : ['newton-cg', 'lbfgs', 'liblinear'],\n",
    "    \"penalty\" : ['l2'],\n",
    "    \"C\" : [0.001, 0.01, 0.1, 1, 10, 100, 1000]\n",
    "}\n",
    "# define grid search\n",
    "cv = RepeatedStratifiedKFold(n_splits=10, n_repeats=3, random_state=1)\n",
    "# define the model\n",
    "regressor = LogisticRegression()\n",
    "grid_search = GridSearchCV(estimator = regressor, param_grid = grid, \n",
    "                           n_jobs=-1, cv=cv, scoring='f1', error_score=0)\n",
    "grid_search.fit(features_train, target_train) \n",
    "y_pred = grid_search.predict(features_test)\n",
    "print('The parameters combination that would give best F1 score is : ')\n",
    "print(grid_search.best_params_)\n",
    "print('The best accuracy achieved after parameter tuning via grid search is: {:.3f}'.format(grid_search.best_score_))\n",
    "print('The accuracy of the model against the training data is: {:.3f}'.format(grid_search.score(features_train, target_train)))\n",
    "print('F1 score: ', f1_score(target_test, y_pred))"
   ]
  },
  {
   "cell_type": "code",
   "execution_count": 27,
   "metadata": {
    "id": "07r70Q27RCIa"
   },
   "outputs": [],
   "source": [
    "# create the logistic regression model\n",
    "def logistic_regression(X_train, y_train, X_test, y_test):\n",
    "    \"\"\"\n",
    "    This is a logistic regression model function developed to train\n",
    "    the model, make prediction on train and testing dataset, \n",
    "    and print F1 score and evaluation metrics for testing datasets\n",
    "    \"\"\"\n",
    "    # define lists to collect scores\n",
    "    train_scores = []\n",
    "    test_scores = []\n",
    "    f1_scores = []\n",
    "    model = LogisticRegression(**grid_search.best_params_)\n",
    "    model.fit(X_train, y_train) # train the model \n",
    "    # make predictions on train set\n",
    "    train_predictions = model.predict(X_train)\n",
    "    train_predictions_acc = accuracy_score(y_train, train_predictions)\n",
    "    train_scores.append(train_predictions_acc)\n",
    "    # make predictions on testing set\n",
    "    lr_test_predictions = model.predict(X_test) \n",
    "    lr_test_predictions_acc = accuracy_score(y_test, lr_test_predictions)\n",
    "    test_scores.append(lr_test_predictions_acc)\n",
    "    f1_score_ = f1_score(y_test, lr_test_predictions)\n",
    "    f1_scores.append(f1_score_)\n",
    "    scores = list(zip(f1_scores, train_scores, test_scores))\n",
    "    print('The logistic regression classifier had the best ' \"\\033[1m\" + \n",
    "          'F1 score of {:.3f} '.format(max(scores, key = lambda x: x[0])[0]) + \"\\033[0m\" + \n",
    "          'using' \"\\033[1m\" + ' C parameter of {},'.format(grid_search.best_params_['C']) + \"\\033[0m\" +\n",
    "          \"\\033[1m\" + ' {} as logistic regression solver'.format(grid_search.best_params_['solver']) + \"\\033[0m\" +\n",
    "          ' leading to an accuracy of ' \"\\033[1m\" + '{:.2%}'.format(max(scores, key = lambda x: x[0])[1]) + ' for the training set ' + \"\\033[0m\" + \n",
    "          'and ' + \"\\033[1m\" '{:.2%}'.format(max(scores, key = lambda x: x[0])[2]) + ' for the testing set' + \"\\033[0m\")\n",
    "    print()\n",
    "    # evaluate logistic regression classifier metric\n",
    "    print_model_evaluation(target_test, lr_test_predictions)"
   ]
  },
  {
   "cell_type": "code",
   "execution_count": 28,
   "metadata": {
    "colab": {
     "base_uri": "https://localhost:8080/"
    },
    "id": "KtHlakjQRCIa",
    "outputId": "cd1f9a40-147b-4886-cea3-326552122a16"
   },
   "outputs": [
    {
     "name": "stdout",
     "output_type": "stream",
     "text": [
      "The logistic regression classifier had the best \u001b[1mF1 score of 0.306 \u001b[0musing\u001b[1m C parameter of 10,\u001b[0m\u001b[1m newton-cg as logistic regression solver\u001b[0m leading to an accuracy of \u001b[1m81.49% for the training set \u001b[0mand \u001b[1m80.17% for the testing set\u001b[0m\n",
      "\n",
      "\u001b[1mF1 score: \u001b[0m 0.306\n",
      "\u001b[1mAccuracy Score: \u001b[0m 80.17%\n",
      "\u001b[1mPrecision: \u001b[0m 0.567\n",
      "\u001b[1mRecall: \u001b[0m 0.209\n",
      "\u001b[1mBalanced Accuracy Score: \u001b[0m 58.36%\n",
      "\u001b[1mROC AUC Score: \u001b[0m 58.36%\n",
      "\n",
      "\u001b[1mConfusion Matrix\u001b[0m\n",
      "--------------------------------------------------\n",
      "[[2274  100]\n",
      " [ 495  131]]\n",
      "\n",
      "\u001b[1mClassification report\u001b[0m\n",
      "--------------------------------------------------\n",
      "              precision    recall  f1-score   support\n",
      "\n",
      "           0       0.82      0.96      0.88      2374\n",
      "           1       0.57      0.21      0.31       626\n",
      "\n",
      "    accuracy                           0.80      3000\n",
      "   macro avg       0.69      0.58      0.60      3000\n",
      "weighted avg       0.77      0.80      0.76      3000\n",
      "\n",
      "\n"
     ]
    }
   ],
   "source": [
    "# determine F1 score for logistic regression model\n",
    "logistic_regression(features_train, target_train, features_test, target_test)"
   ]
  },
  {
   "cell_type": "markdown",
   "metadata": {
    "id": "GVtwopghRCIa"
   },
   "source": [
    "We tuned the \"C\" parameter for the logistic regression model. Although the model training is fast, the F1 score is lower at 0.306. The logistic regression model gave an accuracy of 81.49% for the training set, and 80.17% for the testing sets when using a \"C\" parameter of 10. We can see here that neither the training nor the testing score is high enough. This is because the model is not complex enough hence underfitting occurs. Let's see how other model behave before deciding on the model to use."
   ]
  },
  {
   "cell_type": "markdown",
   "metadata": {
    "id": "qcPWkp95RCIb"
   },
   "source": [
    "##### AdaBoostClassifier"
   ]
  },
  {
   "cell_type": "markdown",
   "metadata": {
    "id": "ON56CqnBRVhP"
   },
   "source": [
    "AdaBoost is challenging to configure since the algorithm has many key hyperparameters that influence the behavior of the model on the training data, and the hyperparameters interact with each other. In such as senario, it is best practice to use a grid search process to discover a configuration of the model hyperparameters that works for the given problem. In this case, we would grid search two key parameters - the number of trees used in the ensemble and the learning rate. "
   ]
  },
  {
   "cell_type": "code",
   "execution_count": 29,
   "metadata": {
    "id": "sehg30tlSlQ4"
   },
   "outputs": [
    {
     "name": "stdout",
     "output_type": "stream",
     "text": [
      "The parameters combination that would give best F1 score is : \n",
      "{'learning_rate': 1.0, 'n_estimators': 50}\n",
      "The best accuracy achieved after parameter tuning via grid search is: 0.568\n",
      "The accuracy of the model against the training data is: 0.585\n",
      "F1 score:  0.5632973503434741\n"
     ]
    }
   ],
   "source": [
    "# GridSearchCV Optimization for Adaboost\n",
    "# define the hyperparameter to tune\n",
    "grid = {\n",
    "    \"n_estimators\" : [10, 50, 100, 500],\n",
    "    \"learning_rate\" : [0.0001, 0.001, 0.01, 0.1, 1.0]\n",
    "}\n",
    "# define grid search\n",
    "cv = RepeatedStratifiedKFold(n_splits=10, n_repeats=3, random_state=1)\n",
    "# define the model\n",
    "model = AdaBoostClassifier()\n",
    "# define the grid search procedure\n",
    "grid_search = GridSearchCV(estimator=model, param_grid=grid, \n",
    "                           n_jobs=-1, cv=cv, scoring='f1')\n",
    "# execute the grid search\n",
    "grid_search.fit(features_train, target_train) \n",
    "y_pred = grid_search.predict(features_test)\n",
    "print('The parameters combination that would give best F1 score is : ')\n",
    "print(grid_search.best_params_)\n",
    "print('The best accuracy achieved after parameter tuning via grid search is: {:.3f}'.format(grid_search.best_score_))\n",
    "print('The accuracy of the model against the training data is: {:.3f}'.format(grid_search.score(features_train, target_train)))\n",
    "print('F1 score: ', f1_score(target_test, y_pred))"
   ]
  },
  {
   "cell_type": "markdown",
   "metadata": {
    "id": "fUzCgkuvWlsd"
   },
   "source": [
    "We defined the grid search using k-fold cross-validation, and carried out grisearchcv optimization for the adaboost classifier. We looked for the configuration with the best score. We can see that the parameter configuration with 50 trees and a learning rate of 1.0 gave the best F1 score. We can use this figures as a guide to train and test the model or simply run a for loop through a set parameter values and learning rate. "
   ]
  },
  {
   "cell_type": "code",
   "execution_count": 30,
   "metadata": {
    "id": "3D5msVSpRCIb"
   },
   "outputs": [],
   "source": [
    "# create adaboost classifier\n",
    "def adaboost_classifier(X_train, y_train, X_test, y_test):\n",
    "    \"\"\"\n",
    "    This is an Adaboost classifier function developed to train\n",
    "    the model, make prediction on train and testing dataset, \n",
    "    and print F1 score and evaluation metrics for testing datasets\n",
    "    \"\"\"\n",
    "    # define lists to collect scores\n",
    "    train_scores = []\n",
    "    test_scores = []\n",
    "    f1_scores = []\n",
    "    model = AdaBoostClassifier(**grid_search.best_params_)\n",
    "    model.fit(X_train, y_train) # train the model \n",
    "    # make predictions on train set\n",
    "    train_predictions = model.predict(X_train)\n",
    "    train_predictions_acc = accuracy_score(y_train, train_predictions)\n",
    "    train_scores.append(train_predictions_acc)\n",
    "    # make predictions on testing set\n",
    "    ab_test_predictions = model.predict(X_test) \n",
    "    ab_test_predictions_acc = accuracy_score(y_test, ab_test_predictions)\n",
    "    test_scores.append(ab_test_predictions_acc)\n",
    "    f1_score_ = f1_score(y_test, ab_test_predictions)\n",
    "    f1_scores.append(f1_score_)\n",
    "    scores = list(zip(f1_scores, train_scores, test_scores))\n",
    "    print('The adaboost classifier had the best ' \"\\033[1m\" + \n",
    "          'F1 score of {:.3f} '.format(max(scores, key = lambda x: x[0])[0]) + \"\\033[0m\" + \n",
    "          'using' \"\\033[1m\" + ' n_estimate value of {},'.format(grid_search.best_params_['n_estimators']) + \"\\033[0m\" +\n",
    "          \"\\033[1m\" + ' learning rate of {}'.format(grid_search.best_params_['learning_rate']) + \"\\033[0m\" +\n",
    "          ' giving an accuracy of ' \"\\033[1m\" + '{:.2%}'.format(max(scores, key = lambda x: x[0])[1]) + ' for the training set ' + \"\\033[0m\" + \n",
    "          'and ' + \"\\033[1m\" '{:.2%}'.format(max(scores, key = lambda x: x[0])[2]) + ' for the testing set' + \"\\033[0m\")\n",
    "    print()\n",
    "    # evaluate adaboost classifier metric\n",
    "    print_model_evaluation(target_test, ab_test_predictions)"
   ]
  },
  {
   "cell_type": "code",
   "execution_count": 31,
   "metadata": {
    "id": "1MOOf_z0RCIb"
   },
   "outputs": [
    {
     "name": "stdout",
     "output_type": "stream",
     "text": [
      "The adaboost classifier had the best \u001b[1mF1 score of 0.563 \u001b[0musing\u001b[1m n_estimate value of 50,\u001b[0m\u001b[1m learning rate of 1.0\u001b[0m giving an accuracy of \u001b[1m86.23% for the training set \u001b[0mand \u001b[1m85.17% for the testing set\u001b[0m\n",
      "\n",
      "\u001b[1mF1 score: \u001b[0m 0.563\n",
      "\u001b[1mAccuracy Score: \u001b[0m 85.17%\n",
      "\u001b[1mPrecision: \u001b[0m 0.730\n",
      "\u001b[1mRecall: \u001b[0m 0.458\n",
      "\u001b[1mBalanced Accuracy Score: \u001b[0m 70.69%\n",
      "\u001b[1mROC AUC Score: \u001b[0m 70.69%\n",
      "\n",
      "\u001b[1mConfusion Matrix\u001b[0m\n",
      "--------------------------------------------------\n",
      "[[2268  106]\n",
      " [ 339  287]]\n",
      "\n",
      "\u001b[1mClassification report\u001b[0m\n",
      "--------------------------------------------------\n",
      "              precision    recall  f1-score   support\n",
      "\n",
      "           0       0.87      0.96      0.91      2374\n",
      "           1       0.73      0.46      0.56       626\n",
      "\n",
      "    accuracy                           0.85      3000\n",
      "   macro avg       0.80      0.71      0.74      3000\n",
      "weighted avg       0.84      0.85      0.84      3000\n",
      "\n",
      "\n"
     ]
    }
   ],
   "source": [
    "# determine F1 score for adaboost classifier\n",
    "adaboost_classifier(features_train, target_train, features_test, target_test)"
   ]
  },
  {
   "cell_type": "markdown",
   "metadata": {
    "id": "VO5RwXJjYhB8"
   },
   "source": [
    "We tuned the `n_estimators` and the learning rate for the AdaBoost classifier resulting in an F1 score of 0.56, accuracy of 86.23% for the training set, and 85.17% for the testing sets when using 50 trees and a learning rate of 1.0."
   ]
  },
  {
   "cell_type": "markdown",
   "metadata": {
    "id": "wsqTF4TcRCIb"
   },
   "source": [
    "##### Random Forest Classifier"
   ]
  },
  {
   "cell_type": "code",
   "execution_count": 39,
   "metadata": {
    "id": "-TrPm9xmJNpZ"
   },
   "outputs": [
    {
     "name": "stdout",
     "output_type": "stream",
     "text": [
      "The parameters combination that would give best F1 score is : \n",
      "{'criterion': 'gini', 'max_depth': 16, 'min_samples_leaf': 6, 'min_samples_split': 8, 'n_estimators': 10}\n",
      "The best accuracy achieved after parameter tuning via grid search is: 0.580\n",
      "The accuracy of the model against the training data is: 0.677\n",
      "F1 score:  0.5595116988809766\n"
     ]
    }
   ],
   "source": [
    "# hyperparameter optimization for Random Forest classifier\n",
    "# define the hyperparameter to tune\n",
    "parameters = {\n",
    "    \"criterion\" : [\"gini\", \"entropy\"],\n",
    "    \"n_estimators\" : [10, 50, 100, 200, 500],\n",
    "    \"max_depth\" : [None, 2, 4, 8, 10, 12, 16],\n",
    "    \"min_samples_split\" : [2, 4, 8, 16],\n",
    "    \"min_samples_leaf\" : [2, 4, 6]\n",
    "    }\n",
    "# define the model with default hyperparameters\n",
    "classifier = RandomForestClassifier()\n",
    "# define the grid search procedure\n",
    "grid_rf = GridSearchCV(estimator=classifier, param_grid=parameters, \n",
    "                    cv=5, scoring='f1')\n",
    "# execute the grid search\n",
    "grid_rf.fit(features_train, target_train) \n",
    "y_pred = grid_rf.predict(features_test)\n",
    "print('The parameters combination that would give best F1 score is : ')\n",
    "print(grid_rf.best_params_)\n",
    "print('The best accuracy achieved after parameter tuning via grid search is: {:.3f}'.format(grid_rf.best_score_))\n",
    "print('The accuracy of the model against the training data is: {:.3f}'.format(grid_rf.score(features_train, target_train)))\n",
    "print('F1 score: ', f1_score(target_test, y_pred))"
   ]
  },
  {
   "cell_type": "code",
   "execution_count": 40,
   "metadata": {
    "id": "zb01edKyRCIb"
   },
   "outputs": [],
   "source": [
    "# create the random forest classifier model\n",
    "def random_forest_classifier(X_train, y_train, X_test, y_test):\n",
    "    \"\"\"\n",
    "    This is a random forest classifier function developed to train\n",
    "    the model, make prediction on train and testing dataset, \n",
    "    and print F1 score and evaluation metrics for testing datasets\n",
    "    \"\"\"\n",
    "    # define lists to collect scores\n",
    "    train_scores = []\n",
    "    test_scores = []\n",
    "    f1_scores = []\n",
    "    model = RandomForestClassifier(**grid_rf.best_params_)\n",
    "    model.fit(X_train, y_train) # train the model \n",
    "    # make predictions on train set\n",
    "    train_predictions = model.predict(X_train)\n",
    "    train_predictions_acc = accuracy_score(y_train, train_predictions)\n",
    "    train_scores.append(train_predictions_acc)\n",
    "    # make predictions on testing set\n",
    "    rf_test_predictions = model.predict(X_test) \n",
    "    rf_test_predictions_acc = accuracy_score(y_test, rf_test_predictions)\n",
    "    test_scores.append(rf_test_predictions_acc)\n",
    "    f1_score_ = f1_score(y_test, rf_test_predictions)\n",
    "    f1_scores.append(f1_score_)\n",
    "    scores = list(zip(f1_scores, train_scores, test_scores))\n",
    "    print('The random forest classifier had the best ' \"\\033[1m\" + \n",
    "          'F1 score of {:.3f} '.format(max(scores, key = lambda x: x[0])[0]) + \"\\033[0m\" + \n",
    "          'using' \"\\033[1m\" + ' n_estimate value of {},'.format(grid_rf.best_params_['n_estimators']) + \"\\033[0m\" +\n",
    "          \"\\033[1m\" + ' maximum tree depth of {}'.format(grid_rf.best_params_['max_depth']) + \"\\033[0m\" +\n",
    "          ' giving an accuracy of ' \"\\033[1m\" + '{:.2%}'.format(max(scores, key = lambda x: x[0])[1]) + ' for the training set ' + \"\\033[0m\" + \n",
    "          'and ' + \"\\033[1m\" '{:.2%}'.format(max(scores, key = lambda x: x[0])[2]) + ' for the test set' + \"\\033[0m\")\n",
    "    print()\n",
    "    # evaluate random forest classifier metric\n",
    "    print_model_evaluation(target_test, rf_test_predictions)"
   ]
  },
  {
   "cell_type": "code",
   "execution_count": 41,
   "metadata": {
    "id": "fGwmZiYQRCIc"
   },
   "outputs": [
    {
     "name": "stdout",
     "output_type": "stream",
     "text": [
      "The random forest classifier had the best \u001b[1mF1 score of 0.544 \u001b[0musing\u001b[1m n_estimate value of 10,\u001b[0m\u001b[1m maximum tree depth of 16\u001b[0m giving an accuracy of \u001b[1m89.76% for the training set \u001b[0mand \u001b[1m85.23% for the test set\u001b[0m\n",
      "\n",
      "\u001b[1mF1 score: \u001b[0m 0.544\n",
      "\u001b[1mAccuracy Score: \u001b[0m 85.23%\n",
      "\u001b[1mPrecision: \u001b[0m 0.765\n",
      "\u001b[1mRecall: \u001b[0m 0.422\n",
      "\u001b[1mBalanced Accuracy Score: \u001b[0m 69.38%\n",
      "\u001b[1mROC AUC Score: \u001b[0m 69.38%\n",
      "\n",
      "\u001b[1mConfusion Matrix\u001b[0m\n",
      "--------------------------------------------------\n",
      "[[2293   81]\n",
      " [ 362  264]]\n",
      "\n",
      "\u001b[1mClassification report\u001b[0m\n",
      "--------------------------------------------------\n",
      "              precision    recall  f1-score   support\n",
      "\n",
      "           0       0.86      0.97      0.91      2374\n",
      "           1       0.77      0.42      0.54       626\n",
      "\n",
      "    accuracy                           0.85      3000\n",
      "   macro avg       0.81      0.69      0.73      3000\n",
      "weighted avg       0.84      0.85      0.84      3000\n",
      "\n",
      "\n"
     ]
    }
   ],
   "source": [
    "# determine accuracy for random forest classifier\n",
    "random_forest_classifier(features_train, target_train, features_test, target_test)"
   ]
  },
  {
   "cell_type": "markdown",
   "metadata": {
    "id": "JSiH7VjVZQPj"
   },
   "source": [
    "We tuned the `max_depth` and `n_estimators` for the Random Forest classifier resulting in an F1 score of 0.54, accuracy of 89.76% for the training set, and 85.23% for the testing sets when using 16 trees and n_estimate value of 10."
   ]
  },
  {
   "cell_type": "markdown",
   "metadata": {},
   "source": [
    "##### CatBoost"
   ]
  },
  {
   "cell_type": "code",
   "execution_count": 35,
   "metadata": {},
   "outputs": [],
   "source": [
    "# create the CatBoost classifier model\n",
    "def catboost_classifier(X_train, y_train, X_test, y_test):\n",
    "    \"\"\"\n",
    "    This is a catboost classifier function developed to train\n",
    "    the model, make prediction on train and testing dataset, \n",
    "    and print F1 score and evaluation metrics for testing datasets\n",
    "    \"\"\"\n",
    "    # define model\n",
    "    model = CatBoostClassifier(verbose=0, random_state=12345)\n",
    "    model.fit(X_train, y_train) # train the model \n",
    "    # make predictions on train set\n",
    "    train_predictions = model.predict(X_train)\n",
    "    train_predictions_acc = accuracy_score(y_train, train_predictions)\n",
    "    # make predictions on testing set\n",
    "    cb_test_predictions = model.predict(X_test) \n",
    "    cb_test_predictions_acc = accuracy_score(y_test, cb_test_predictions)\n",
    "    f1_score_ = f1_score(y_test, cb_test_predictions)\n",
    "    print('The model has an ' \"\\033[1m\" 'F1 score of {:.3f},'.format(f1_score_) + \"\\033[0m\" +\n",
    "          ' accuracy of ' \"\\033[1m\" + '{:.2%}'.format(train_predictions_acc) + ' for the training set ' + \"\\033[0m\" + \n",
    "          'and ' + \"\\033[1m\" '{:.2%}'.format(cb_test_predictions_acc) + ' for the testing set' + \"\\033[0m\")\n",
    "    print()\n",
    "    # evaluate catboost classifier metric\n",
    "    print_model_evaluation(target_test, cb_test_predictions)"
   ]
  },
  {
   "cell_type": "code",
   "execution_count": 36,
   "metadata": {},
   "outputs": [
    {
     "name": "stdout",
     "output_type": "stream",
     "text": [
      "The model has an \u001b[1mF1 score of 0.587,\u001b[0m accuracy of \u001b[1m91.26% for the training set \u001b[0mand \u001b[1m86.07% for the testing set\u001b[0m\n",
      "\n",
      "\u001b[1mF1 score: \u001b[0m 0.587\n",
      "\u001b[1mAccuracy Score: \u001b[0m 86.07%\n",
      "\u001b[1mPrecision: \u001b[0m 0.769\n",
      "\u001b[1mRecall: \u001b[0m 0.474\n",
      "\u001b[1mBalanced Accuracy Score: \u001b[0m 71.85%\n",
      "\u001b[1mROC AUC Score: \u001b[0m 71.85%\n",
      "\n",
      "\u001b[1mConfusion Matrix\u001b[0m\n",
      "--------------------------------------------------\n",
      "[[2285   89]\n",
      " [ 329  297]]\n",
      "\n",
      "\u001b[1mClassification report\u001b[0m\n",
      "--------------------------------------------------\n",
      "              precision    recall  f1-score   support\n",
      "\n",
      "           0       0.87      0.96      0.92      2374\n",
      "           1       0.77      0.47      0.59       626\n",
      "\n",
      "    accuracy                           0.86      3000\n",
      "   macro avg       0.82      0.72      0.75      3000\n",
      "weighted avg       0.85      0.86      0.85      3000\n",
      "\n",
      "\n"
     ]
    }
   ],
   "source": [
    "# determine F1 score for CatBoost algorithm\n",
    "catboost_classifier(features_train, target_train, features_test, target_test)"
   ]
  },
  {
   "cell_type": "markdown",
   "metadata": {},
   "source": [
    "The CatBoost classifier gave the best F1 score of 0.59."
   ]
  },
  {
   "cell_type": "markdown",
   "metadata": {},
   "source": [
    "##### Summary of results\n",
    "\n",
    "|Model (Classifier) | F1 Score | Accuracy | AUC-ROC |\n",
    "|:-------|-------|-------|-------|\n",
    "|Decision Tree  | 0.54 | 84.53% | 69.23% |\n",
    "|Logistic Regression  | 0.31 | 80.17% | 58.36% |\n",
    "|Adaboost | 0.56 | 85.17% | 70.69% |\n",
    "|Random Forest | 0.54| 85.23% | 69.38% |\n",
    "|Catboost | 0.59| 86.07% | 71.85% |\n",
    "\n"
   ]
  },
  {
   "cell_type": "markdown",
   "metadata": {
    "id": "c9Lev3-HRCIc"
   },
   "source": [
    "**Conclusion**\n",
    "\n",
    "From the investigation of different model quality, we can see that the CatBoost classifier gives the best result for F1 score of 0.59, accuracy of 86.07% and AUC-ROC value of 71.85% of the five different models investigated. The logistic regression model had the lowest values for F1 score of 0.31, accuracy of 80.17%, and AUC-ROC of 58.36%. The Catboost model is the best model based on the F1 score when predicting whether a customer will leave the bank soon.  "
   ]
  },
  {
   "cell_type": "markdown",
   "metadata": {
    "id": "_o_TEmBzRCIc"
   },
   "source": [
    "<div id=\"check_quality\">\n",
    "    <h2>Check model quality</h2> \n",
    "</div>"
   ]
  },
  {
   "cell_type": "markdown",
   "metadata": {
    "id": "ZHxqO8hf60t4"
   },
   "source": [
    "#### Model testing\n",
    "\n",
    "The result of the previous section suggested that the CatBoost classifier was perhaps the most accurate model. Using the CatBoost classifier as our final model, we can make predictions using the test set. "
   ]
  },
  {
   "cell_type": "code",
   "execution_count": 37,
   "metadata": {},
   "outputs": [],
   "source": [
    "# create the CatBoost classifier model\n",
    "def catboost_classifier(X_train, y_train, X_test, y_test):\n",
    "    \"\"\"\n",
    "    This is a catboost classifier function developed to train\n",
    "    the model, make prediction on train and test dataset, print\n",
    "    model accuracy for training and test datasets and visualize\n",
    "    model accuracy scores on train and test sets\n",
    "    \"\"\"\n",
    "    # define model\n",
    "    model = CatBoostClassifier(verbose=0, random_state=12345)\n",
    "    model.fit(X_train, y_train) # train the model \n",
    "    # make predictions on train set\n",
    "    train_predictions = model.predict(X_train)\n",
    "    train_predictions_acc = accuracy_score(y_train, train_predictions)\n",
    "    # make predictions on test set\n",
    "    test_predictions = model.predict(X_test)\n",
    "    test_predictions_acc = accuracy_score(y_test, test_predictions)\n",
    "    f1_score_ = f1_score(y_test, test_predictions)\n",
    "    print('The model has an ' \"\\033[1m\" 'F1 score of {:.3f},'.format(f1_score_) + \"\\033[0m\" +\n",
    "          ' accuracy of ' \"\\033[1m\" + '{:.2%}'.format(train_predictions_acc) + ' for the training set ' + \"\\033[0m\" + \n",
    "          'and ' + \"\\033[1m\" '{:.2%}'.format(test_predictions_acc) + ' for the test set' + \"\\033[0m\")\n",
    "    # plot of ROC and Precision-Recall curve\n",
    "    _, axs = plt.subplots(1, 2,figsize=(10,5))\n",
    "    axs = axs.ravel()\n",
    "    plot_pr(y_test, test_predictions, ax=axs[0], label=\"CatBoostClassifier\")\n",
    "    plot_roc(y_test, test_predictions, ax=axs[1], label=\"CatBoostClassifier\")\n",
    "    plt.title('Plot of ROC and Precision-Recall curve')\n",
    "    plt.legend()\n",
    "    plt.show()"
   ]
  },
  {
   "cell_type": "code",
   "execution_count": 38,
   "metadata": {},
   "outputs": [
    {
     "name": "stdout",
     "output_type": "stream",
     "text": [
      "The model has an \u001b[1mF1 score of 0.587,\u001b[0m accuracy of \u001b[1m91.26% for the training set \u001b[0mand \u001b[1m86.07% for the test set\u001b[0m\n"
     ]
    },
    {
     "data": {
      "image/png": "[encoded data removed]",
      "text/plain": [
       "<Figure size 720x360 with 2 Axes>"
      ]
     },
     "metadata": {
      "needs_background": "light"
     },
     "output_type": "display_data"
    }
   ],
   "source": [
    "# determine accuracy for CatBoost algorithm\n",
    "catboost_classifier(features_train, target_train, features_test, target_test)"
   ]
  },
  {
   "cell_type": "markdown",
   "metadata": {
    "id": "HnWd1CXl9qgP"
   },
   "source": [
    "Using the CatBoost model, we obtained an **F1-score of 0.59**. "
   ]
  },
  {
   "cell_type": "markdown",
   "metadata": {
    "id": "5u6Q8LBIRCId"
   },
   "source": [
    "<div id=\"overall_conclusion\">\n",
    "    <h2>Overall conclusion</h2> \n",
    "</div>"
   ]
  },
  {
   "cell_type": "markdown",
   "metadata": {},
   "source": [
    "In the first section, we downloaded and prepared the data. From the information about the dataset, we have 10000 rows and 14 features. Looking at the dataset, we observed that about 9% of the data is missing in the Tenure column, and the data is missing at random (MAR). We replaced the missing values, corrected the datatype, and encoded the categorical feature using one-hot encoding. We splitted the data into 70% training set, and 30% testing sets. Since the features have different scales, we standardized the numerical features of the data. The size of the new table is 7000 rows and 11 columns for the train features set, and 3000 rows and 11 columns for the test features set. \n",
    "\n",
    "We trained the model without taking into account the imbalance. We achieved a F1 score of 0.304. We assess the sanity of the model by checking how often the target feature contains the class \"1\" or \"0\". We observed the class imbalance in the dataset. Next we try to improve the quality of the model using two different approaches to fixing class imbalance. First, we split the training sample into negative and positive observations, we duplicated the positive observations and combine them with the negative class observation. Then we shuffled the data using shuffle() function, and trained our LogisticRegression model with the new data. We calculated the F1 score to be 0.487.\n",
    "\n",
    "We investigated several models and tuned different hyperparameters for those model using GridSearchCV and RepeatedStratifiedKFold. From the investigation of different model quality, we observed that the CatBoost classifier gave an accuracy of 91.26% for the training data, and 86.07% for the testing data which is the best result of the five different models investigated. The logistic regression model gave the lowest accuracy prediction of the five models with an accuracy of 80.17% for the testing sets. We proceed to use the CatBoost classifier to perform the final test prediction on the unseen test data. Using the CatBoost model, we obtained an F1-score of 0.59. \n",
    "\n",
    "At the end of this project, we were able to develop a model that can predict whether a customer will leave the bank soon with an accuracy of 86% and an F1-score of **0.59**. The CatBoost model really helped the business predict whether customers will churn or not. "
   ]
  }
 ],
 "metadata": {
  "ExecuteTimeLog": [
   {
    "duration": 1068,
    "start_time": "2021-07-03T03:55:59.432Z"
   },
   {
    "duration": 161,
    "start_time": "2021-07-03T03:56:01.348Z"
   },
   {
    "duration": 7,
    "start_time": "2021-07-03T03:56:02.636Z"
   },
   {
    "duration": 99,
    "start_time": "2021-07-03T03:56:04.249Z"
   },
   {
    "duration": 12159,
    "start_time": "2021-07-03T03:56:08.882Z"
   },
   {
    "duration": 35,
    "start_time": "2021-07-03T03:56:21.042Z"
   },
   {
    "duration": 6,
    "start_time": "2021-07-03T03:56:21.079Z"
   },
   {
    "duration": 23,
    "start_time": "2021-07-03T03:56:21.086Z"
   },
   {
    "duration": 16,
    "start_time": "2021-07-03T03:56:21.110Z"
   },
   {
    "duration": 536,
    "start_time": "2021-07-03T03:56:26.196Z"
   },
   {
    "duration": 4,
    "start_time": "2021-07-03T03:56:31.159Z"
   },
   {
    "duration": 714,
    "start_time": "2021-07-03T03:56:32.042Z"
   },
   {
    "duration": 699,
    "start_time": "2021-07-03T03:56:32.843Z"
   },
   {
    "duration": 312,
    "start_time": "2021-07-03T03:56:43.134Z"
   },
   {
    "duration": 513,
    "start_time": "2021-07-03T03:56:43.448Z"
   },
   {
    "duration": 264,
    "start_time": "2021-07-03T03:56:43.963Z"
   },
   {
    "duration": 612,
    "start_time": "2021-07-03T03:56:44.229Z"
   },
   {
    "duration": 98,
    "start_time": "2021-07-03T03:56:44.844Z"
   },
   {
    "duration": 141238,
    "start_time": "2021-07-03T03:56:56.627Z"
   },
   {
    "duration": 5,
    "start_time": "2021-07-03T03:59:17.868Z"
   },
   {
    "duration": 421,
    "start_time": "2021-07-03T03:59:17.875Z"
   },
   {
    "duration": 4,
    "start_time": "2021-07-03T03:59:40.139Z"
   },
   {
    "duration": 408,
    "start_time": "2021-07-03T03:59:41.020Z"
   },
   {
    "duration": -1587,
    "start_time": "2021-07-03T04:09:15.763Z"
   },
   {
    "duration": -1826,
    "start_time": "2021-07-03T04:09:16.003Z"
   },
   {
    "duration": -1830,
    "start_time": "2021-07-03T04:09:16.007Z"
   },
   {
    "duration": -1831,
    "start_time": "2021-07-03T04:09:16.009Z"
   },
   {
    "duration": -1833,
    "start_time": "2021-07-03T04:09:16.012Z"
   },
   {
    "duration": -1834,
    "start_time": "2021-07-03T04:09:16.014Z"
   },
   {
    "duration": 7,
    "start_time": "2021-07-03T04:09:18.664Z"
   },
   {
    "duration": 93,
    "start_time": "2021-07-03T04:09:20.591Z"
   },
   {
    "duration": 1031,
    "start_time": "2021-07-03T04:09:40.316Z"
   },
   {
    "duration": 83,
    "start_time": "2021-07-03T04:09:41.349Z"
   },
   {
    "duration": 6,
    "start_time": "2021-07-03T04:09:44.720Z"
   },
   {
    "duration": 85,
    "start_time": "2021-07-03T04:09:45.501Z"
   },
   {
    "duration": 12217,
    "start_time": "2021-07-03T04:09:51.495Z"
   },
   {
    "duration": 41,
    "start_time": "2021-07-03T04:10:03.714Z"
   },
   {
    "duration": 6,
    "start_time": "2021-07-03T04:10:03.757Z"
   },
   {
    "duration": 14,
    "start_time": "2021-07-03T04:10:03.764Z"
   },
   {
    "duration": 9,
    "start_time": "2021-07-03T04:10:03.779Z"
   },
   {
    "duration": 515,
    "start_time": "2021-07-03T04:10:51.649Z"
   },
   {
    "duration": 8,
    "start_time": "2021-07-03T04:12:01.058Z"
   },
   {
    "duration": 67,
    "start_time": "2021-07-03T04:12:01.560Z"
   },
   {
    "duration": 6,
    "start_time": "2021-07-03T04:12:02.323Z"
   },
   {
    "duration": 86,
    "start_time": "2021-07-03T04:12:02.858Z"
   },
   {
    "duration": 12414,
    "start_time": "2021-07-03T04:12:05.339Z"
   },
   {
    "duration": 32,
    "start_time": "2021-07-03T04:12:17.755Z"
   },
   {
    "duration": 5,
    "start_time": "2021-07-03T04:12:17.789Z"
   },
   {
    "duration": 11,
    "start_time": "2021-07-03T04:12:17.796Z"
   },
   {
    "duration": 8,
    "start_time": "2021-07-03T04:12:17.808Z"
   },
   {
    "duration": 440,
    "start_time": "2021-07-03T04:12:23.643Z"
   },
   {
    "duration": 12,
    "start_time": "2021-07-03T04:12:48.088Z"
   },
   {
    "duration": 469,
    "start_time": "2021-07-03T04:13:21.081Z"
   },
   {
    "duration": 247,
    "start_time": "2021-07-03T04:15:27.325Z"
   },
   {
    "duration": 12,
    "start_time": "2021-07-03T04:15:44.773Z"
   },
   {
    "duration": 54,
    "start_time": "2021-07-03T04:16:30.220Z"
   },
   {
    "duration": 1162,
    "start_time": "2021-07-03T04:17:00.420Z"
   },
   {
    "duration": 80,
    "start_time": "2021-07-03T04:17:02.112Z"
   },
   {
    "duration": 6,
    "start_time": "2021-07-03T04:17:03.013Z"
   },
   {
    "duration": 90,
    "start_time": "2021-07-03T04:17:03.651Z"
   },
   {
    "duration": 12064,
    "start_time": "2021-07-03T04:17:13.073Z"
   },
   {
    "duration": 33,
    "start_time": "2021-07-03T04:17:25.141Z"
   },
   {
    "duration": 6,
    "start_time": "2021-07-03T04:17:25.176Z"
   },
   {
    "duration": 12,
    "start_time": "2021-07-03T04:17:25.183Z"
   },
   {
    "duration": 20,
    "start_time": "2021-07-03T04:17:25.196Z"
   },
   {
    "duration": 11,
    "start_time": "2021-07-03T04:19:18.333Z"
   },
   {
    "duration": 54,
    "start_time": "2021-07-03T04:21:28.706Z"
   },
   {
    "duration": 4,
    "start_time": "2021-07-03T04:24:29.885Z"
   },
   {
    "duration": 24,
    "start_time": "2021-07-03T04:24:32.255Z"
   },
   {
    "duration": 312,
    "start_time": "2021-07-03T04:24:38.136Z"
   },
   {
    "duration": 19,
    "start_time": "2021-07-03T04:24:46.825Z"
   },
   {
    "duration": 317,
    "start_time": "2021-07-03T04:25:23.531Z"
   },
   {
    "duration": 12,
    "start_time": "2021-07-03T04:25:52.668Z"
   },
   {
    "duration": 29,
    "start_time": "2021-07-03T04:25:53.115Z"
   },
   {
    "duration": 6,
    "start_time": "2021-07-03T04:26:32.041Z"
   },
   {
    "duration": 6441,
    "start_time": "2021-07-03T04:26:35.376Z"
   },
   {
    "duration": 4,
    "start_time": "2021-07-03T04:26:41.818Z"
   },
   {
    "duration": 41,
    "start_time": "2021-07-03T04:26:41.824Z"
   },
   {
    "duration": 109474,
    "start_time": "2021-07-03T04:29:16.075Z"
   },
   {
    "duration": 4,
    "start_time": "2021-07-03T04:31:05.642Z"
   },
   {
    "duration": 298,
    "start_time": "2021-07-03T04:31:05.648Z"
   },
   {
    "duration": 383467,
    "start_time": "2021-07-03T04:31:23.220Z"
   },
   {
    "duration": 6,
    "start_time": "2021-07-03T04:37:46.689Z"
   },
   {
    "duration": 2340,
    "start_time": "2021-07-03T04:37:46.697Z"
   },
   {
    "duration": 2740925,
    "start_time": "2021-07-03T04:42:09.505Z"
   },
   {
    "duration": 8,
    "start_time": "2021-07-03T05:27:50.432Z"
   },
   {
    "duration": 642,
    "start_time": "2021-07-03T05:27:50.442Z"
   },
   {
    "duration": 132,
    "start_time": "2021-07-03T05:27:51.086Z"
   },
   {
    "duration": -276,
    "start_time": "2021-07-03T05:27:51.495Z"
   },
   {
    "duration": -282,
    "start_time": "2021-07-03T05:27:51.502Z"
   },
   {
    "duration": 376,
    "start_time": "2021-07-03T05:28:21.303Z"
   },
   {
    "duration": 5,
    "start_time": "2021-07-03T05:28:22.448Z"
   },
   {
    "duration": 296,
    "start_time": "2021-07-03T05:31:36.920Z"
   },
   {
    "duration": -979,
    "start_time": "2021-07-03T08:21:16.229Z"
   },
   {
    "duration": -986,
    "start_time": "2021-07-03T08:21:16.237Z"
   },
   {
    "duration": -987,
    "start_time": "2021-07-03T08:21:16.240Z"
   },
   {
    "duration": 42,
    "start_time": "2021-07-03T08:32:51.150Z"
   },
   {
    "duration": 20063,
    "start_time": "2021-07-03T08:33:28.060Z"
   },
   {
    "duration": 7,
    "start_time": "2021-07-03T08:45:59.944Z"
   },
   {
    "duration": 267,
    "start_time": "2021-07-03T08:46:00.906Z"
   },
   {
    "duration": 5,
    "start_time": "2021-07-03T08:48:39.075Z"
   },
   {
    "duration": 19012,
    "start_time": "2021-07-03T08:48:39.712Z"
   },
   {
    "duration": 7,
    "start_time": "2021-07-03T08:49:46.079Z"
   },
   {
    "duration": 18517,
    "start_time": "2021-07-03T08:49:46.598Z"
   },
   {
    "duration": 527,
    "start_time": "2021-07-03T08:51:19.501Z"
   },
   {
    "duration": 7,
    "start_time": "2021-07-03T08:54:01.368Z"
   },
   {
    "duration": 1076,
    "start_time": "2021-07-03T08:54:08.586Z"
   },
   {
    "duration": 7,
    "start_time": "2021-07-03T08:56:29.106Z"
   },
   {
    "duration": 578,
    "start_time": "2021-07-03T08:56:35.789Z"
   },
   {
    "duration": 499,
    "start_time": "2021-07-03T08:57:17.525Z"
   },
   {
    "duration": 548,
    "start_time": "2021-07-03T09:05:09.139Z"
   },
   {
    "duration": 6,
    "start_time": "2021-07-03T09:05:36.597Z"
   },
   {
    "duration": 21948,
    "start_time": "2021-07-03T09:05:37.852Z"
   },
   {
    "duration": 6,
    "start_time": "2021-07-03T09:06:54.202Z"
   },
   {
    "duration": 7,
    "start_time": "2021-07-03T09:07:04.223Z"
   },
   {
    "duration": 20313,
    "start_time": "2021-07-03T09:07:05.391Z"
   },
   {
    "duration": 17,
    "start_time": "2021-07-03T09:21:26.727Z"
   },
   {
    "duration": 93,
    "start_time": "2021-07-03T09:26:27.847Z"
   },
   {
    "duration": 94,
    "start_time": "2021-07-03T09:27:34.249Z"
   },
   {
    "duration": 7,
    "start_time": "2021-07-03T09:28:08.311Z"
   },
   {
    "duration": 18996,
    "start_time": "2021-07-03T09:28:12.892Z"
   },
   {
    "duration": 4,
    "start_time": "2021-07-03T09:36:42.989Z"
   },
   {
    "duration": 69,
    "start_time": "2021-07-03T09:36:43.471Z"
   },
   {
    "duration": 17,
    "start_time": "2021-07-03T09:37:30.561Z"
   },
   {
    "duration": 25,
    "start_time": "2021-07-03T09:37:48.338Z"
   },
   {
    "duration": 10,
    "start_time": "2021-07-03T10:04:00.418Z"
   },
   {
    "duration": 1149,
    "start_time": "2021-07-04T00:29:32.266Z"
   },
   {
    "duration": 216,
    "start_time": "2021-07-04T00:29:40.781Z"
   },
   {
    "duration": 6,
    "start_time": "2021-07-04T00:29:41.340Z"
   },
   {
    "duration": 84,
    "start_time": "2021-07-04T00:29:41.999Z"
   },
   {
    "duration": 12401,
    "start_time": "2021-07-04T00:29:49.841Z"
   },
   {
    "duration": 33,
    "start_time": "2021-07-04T00:30:02.244Z"
   },
   {
    "duration": 16,
    "start_time": "2021-07-04T00:30:02.279Z"
   },
   {
    "duration": 12,
    "start_time": "2021-07-04T00:30:02.297Z"
   },
   {
    "duration": 11,
    "start_time": "2021-07-04T00:30:02.310Z"
   },
   {
    "duration": 10,
    "start_time": "2021-07-04T00:30:02.323Z"
   },
   {
    "duration": 70,
    "start_time": "2021-07-04T00:30:02.335Z"
   },
   {
    "duration": 78,
    "start_time": "2021-07-04T00:48:13.947Z"
   },
   {
    "duration": 4,
    "start_time": "2021-07-04T00:51:41.132Z"
   },
   {
    "duration": 23,
    "start_time": "2021-07-04T00:53:22.824Z"
   },
   {
    "duration": 1089,
    "start_time": "2021-07-04T00:55:10.752Z"
   },
   {
    "duration": 112,
    "start_time": "2021-07-04T00:55:13.174Z"
   },
   {
    "duration": 7,
    "start_time": "2021-07-04T00:55:13.768Z"
   },
   {
    "duration": 85,
    "start_time": "2021-07-04T00:55:14.406Z"
   },
   {
    "duration": 11972,
    "start_time": "2021-07-04T00:55:17.690Z"
   },
   {
    "duration": 42,
    "start_time": "2021-07-04T00:55:29.664Z"
   },
   {
    "duration": 6,
    "start_time": "2021-07-04T00:55:29.707Z"
   },
   {
    "duration": 17,
    "start_time": "2021-07-04T00:55:29.715Z"
   },
   {
    "duration": 8,
    "start_time": "2021-07-04T00:55:29.734Z"
   },
   {
    "duration": 21,
    "start_time": "2021-07-04T00:55:29.743Z"
   },
   {
    "duration": 54,
    "start_time": "2021-07-04T00:55:29.765Z"
   },
   {
    "duration": 5,
    "start_time": "2021-07-04T00:55:37.464Z"
   },
   {
    "duration": 24,
    "start_time": "2021-07-04T00:55:40.216Z"
   },
   {
    "duration": 266,
    "start_time": "2021-07-04T00:56:09.435Z"
   },
   {
    "duration": 18,
    "start_time": "2021-07-04T00:58:01.416Z"
   },
   {
    "duration": 274,
    "start_time": "2021-07-04T00:58:12.364Z"
   },
   {
    "duration": 11,
    "start_time": "2021-07-04T00:59:42.129Z"
   },
   {
    "duration": 28,
    "start_time": "2021-07-04T00:59:48.628Z"
   },
   {
    "duration": 7,
    "start_time": "2021-07-04T01:00:30.556Z"
   },
   {
    "duration": 6807,
    "start_time": "2021-07-04T01:32:23.716Z"
   },
   {
    "duration": 5,
    "start_time": "2021-07-04T01:46:17.748Z"
   },
   {
    "duration": 549,
    "start_time": "2021-07-04T01:46:20.324Z"
   },
   {
    "duration": 5,
    "start_time": "2021-07-04T01:47:09.179Z"
   },
   {
    "duration": 460,
    "start_time": "2021-07-04T01:47:10.348Z"
   },
   {
    "duration": 5,
    "start_time": "2021-07-04T01:53:48.977Z"
   },
   {
    "duration": 23,
    "start_time": "2021-07-04T01:53:49.706Z"
   },
   {
    "duration": 5,
    "start_time": "2021-07-04T01:56:53.709Z"
   },
   {
    "duration": 24,
    "start_time": "2021-07-04T01:56:54.035Z"
   },
   {
    "duration": 116622,
    "start_time": "2021-07-04T02:03:45.548Z"
   },
   {
    "duration": 105144,
    "start_time": "2021-07-04T02:09:16.544Z"
   },
   {
    "duration": 253,
    "start_time": "2021-07-04T02:24:51.354Z"
   },
   {
    "duration": 112694,
    "start_time": "2021-07-04T02:25:14.075Z"
   },
   {
    "duration": 109082,
    "start_time": "2021-07-04T02:31:16.612Z"
   },
   {
    "duration": 6,
    "start_time": "2021-07-04T02:38:25.631Z"
   },
   {
    "duration": 134,
    "start_time": "2021-07-04T02:38:26.269Z"
   },
   {
    "duration": 6,
    "start_time": "2021-07-04T02:39:15.705Z"
   },
   {
    "duration": 187,
    "start_time": "2021-07-04T02:39:17.005Z"
   },
   {
    "duration": 1603,
    "start_time": "2021-07-04T06:25:16.008Z"
   },
   {
    "duration": 5172,
    "start_time": "2021-07-04T06:25:46.367Z"
   },
   {
    "duration": 14,
    "start_time": "2021-07-04T06:26:03.020Z"
   },
   {
    "duration": 1649,
    "start_time": "2021-07-04T06:26:15.738Z"
   },
   {
    "duration": 206,
    "start_time": "2021-07-04T06:26:17.390Z"
   },
   {
    "duration": 11,
    "start_time": "2021-07-04T06:26:17.599Z"
   },
   {
    "duration": 181,
    "start_time": "2021-07-04T06:26:17.612Z"
   },
   {
    "duration": 21979,
    "start_time": "2021-07-04T06:26:17.795Z"
   },
   {
    "duration": 65,
    "start_time": "2021-07-04T06:26:39.777Z"
   },
   {
    "duration": 11,
    "start_time": "2021-07-04T06:26:39.844Z"
   },
   {
    "duration": 48,
    "start_time": "2021-07-04T06:26:39.859Z"
   },
   {
    "duration": 14,
    "start_time": "2021-07-04T06:26:39.911Z"
   },
   {
    "duration": 23,
    "start_time": "2021-07-04T06:26:39.929Z"
   },
   {
    "duration": 135,
    "start_time": "2021-07-04T06:26:39.987Z"
   },
   {
    "duration": 8,
    "start_time": "2021-07-04T06:26:40.125Z"
   },
   {
    "duration": 154,
    "start_time": "2021-07-04T06:26:40.135Z"
   },
   {
    "duration": 485,
    "start_time": "2021-07-04T06:26:40.293Z"
   },
   {
    "duration": 107,
    "start_time": "2021-07-04T06:26:40.781Z"
   },
   {
    "duration": 476,
    "start_time": "2021-07-04T06:26:40.892Z"
   },
   {
    "duration": 26,
    "start_time": "2021-07-04T06:26:41.371Z"
   },
   {
    "duration": 89,
    "start_time": "2021-07-04T06:26:41.400Z"
   },
   {
    "duration": 101,
    "start_time": "2021-07-04T06:26:41.493Z"
   },
   {
    "duration": 10697,
    "start_time": "2021-07-04T06:26:41.597Z"
   },
   {
    "duration": 8,
    "start_time": "2021-07-04T06:26:52.296Z"
   },
   {
    "duration": 44,
    "start_time": "2021-07-04T06:26:52.306Z"
   },
   {
    "duration": 209036,
    "start_time": "2021-07-04T06:26:52.355Z"
   },
   {
    "duration": 10,
    "start_time": "2021-07-04T06:30:21.395Z"
   },
   {
    "duration": 178,
    "start_time": "2021-07-04T06:30:21.408Z"
   },
   {
    "duration": 635073,
    "start_time": "2021-07-04T06:30:21.589Z"
   },
   {
    "duration": 9,
    "start_time": "2021-07-04T06:40:56.665Z"
   },
   {
    "duration": 3750,
    "start_time": "2021-07-04T06:40:56.686Z"
   },
   {
    "duration": 4680130,
    "start_time": "2021-07-04T06:41:00.439Z"
   },
   {
    "duration": 17,
    "start_time": "2021-07-04T07:59:00.572Z"
   },
   {
    "duration": 1195,
    "start_time": "2021-07-04T07:59:00.591Z"
   },
   {
    "duration": 6,
    "start_time": "2021-07-04T07:59:01.788Z"
   },
   {
    "duration": 24678,
    "start_time": "2021-07-04T07:59:01.797Z"
   },
   {
    "duration": 17,
    "start_time": "2021-07-04T08:00:19.872Z"
   },
   {
    "duration": 26872,
    "start_time": "2021-07-04T08:00:19.891Z"
   },
   {
    "duration": 11,
    "start_time": "2021-07-04T08:07:48.231Z"
   },
   {
    "duration": 27000,
    "start_time": "2021-07-04T08:07:49.789Z"
   },
   {
    "duration": 13,
    "start_time": "2021-07-04T08:09:15.086Z"
   },
   {
    "duration": 857,
    "start_time": "2021-07-04T08:09:15.807Z"
   },
   {
    "duration": 12,
    "start_time": "2021-07-04T08:50:35.492Z"
   },
   {
    "duration": 1910,
    "start_time": "2021-07-04T08:50:35.993Z"
   },
   {
    "duration": 11,
    "start_time": "2021-07-04T08:50:59.312Z"
   },
   {
    "duration": 1675,
    "start_time": "2021-07-04T08:50:59.947Z"
   },
   {
    "duration": 12,
    "start_time": "2021-07-04T08:51:32.070Z"
   },
   {
    "duration": 1898,
    "start_time": "2021-07-04T08:51:33.001Z"
   },
   {
    "duration": 11,
    "start_time": "2021-07-04T08:52:59.658Z"
   },
   {
    "duration": 1796,
    "start_time": "2021-07-04T08:53:00.779Z"
   },
   {
    "duration": 10219,
    "start_time": "2021-07-04T09:13:30.715Z"
   },
   {
    "duration": 9966,
    "start_time": "2021-07-04T09:14:44.597Z"
   },
   {
    "duration": 11148,
    "start_time": "2021-07-04T09:15:04.374Z"
   },
   {
    "duration": 20135,
    "start_time": "2021-07-04T09:19:55.338Z"
   },
   {
    "duration": 19520,
    "start_time": "2021-07-04T09:22:24.496Z"
   },
   {
    "duration": 12,
    "start_time": "2021-07-04T09:25:44.069Z"
   },
   {
    "duration": 1855,
    "start_time": "2021-07-04T09:25:46.930Z"
   },
   {
    "duration": 94,
    "start_time": "2021-07-04T09:26:54.023Z"
   },
   {
    "duration": 1869,
    "start_time": "2021-07-04T09:26:54.535Z"
   },
   {
    "duration": 12,
    "start_time": "2021-07-04T09:27:17.276Z"
   },
   {
    "duration": 2554,
    "start_time": "2021-07-04T09:27:17.797Z"
   },
   {
    "duration": 11,
    "start_time": "2021-07-04T09:27:36.612Z"
   },
   {
    "duration": 5333,
    "start_time": "2021-07-04T09:27:37.133Z"
   },
   {
    "duration": 12,
    "start_time": "2021-07-04T09:28:17.979Z"
   },
   {
    "duration": 1615,
    "start_time": "2021-07-04T09:28:18.331Z"
   },
   {
    "duration": 7,
    "start_time": "2021-07-04T09:32:44.082Z"
   },
   {
    "duration": 26316,
    "start_time": "2021-07-04T09:32:44.573Z"
   },
   {
    "duration": 6,
    "start_time": "2021-07-04T09:33:33.164Z"
   },
   {
    "duration": 94527,
    "start_time": "2021-07-04T09:33:34.016Z"
   },
   {
    "duration": 7,
    "start_time": "2021-07-04T09:36:02.715Z"
   },
   {
    "duration": 27394,
    "start_time": "2021-07-04T09:36:03.810Z"
   },
   {
    "duration": 1796,
    "start_time": "2021-07-06T17:54:40.904Z"
   },
   {
    "duration": 200,
    "start_time": "2021-07-06T17:54:45.000Z"
   },
   {
    "duration": 11,
    "start_time": "2021-07-06T17:54:46.037Z"
   },
   {
    "duration": 149,
    "start_time": "2021-07-06T17:54:47.799Z"
   },
   {
    "duration": 23443,
    "start_time": "2021-07-06T17:54:50.351Z"
   },
   {
    "duration": 77,
    "start_time": "2021-07-06T17:55:13.797Z"
   },
   {
    "duration": 11,
    "start_time": "2021-07-06T17:55:13.877Z"
   },
   {
    "duration": 16,
    "start_time": "2021-07-06T17:55:45.138Z"
   },
   {
    "duration": 12,
    "start_time": "2021-07-06T17:55:46.002Z"
   },
   {
    "duration": 22,
    "start_time": "2021-07-06T17:55:48.760Z"
   },
   {
    "duration": 92,
    "start_time": "2021-07-06T17:55:50.635Z"
   },
   {
    "duration": 6,
    "start_time": "2021-07-06T17:56:11.381Z"
   },
   {
    "duration": 285,
    "start_time": "2021-07-06T17:56:14.573Z"
   },
   {
    "duration": 516,
    "start_time": "2021-07-06T17:56:18.331Z"
   },
   {
    "duration": 128,
    "start_time": "2021-07-06T17:56:29.150Z"
   },
   {
    "duration": 452,
    "start_time": "2021-07-06T17:56:32.611Z"
   },
   {
    "duration": 20,
    "start_time": "2021-07-06T17:56:45.253Z"
   },
   {
    "duration": 145,
    "start_time": "2021-07-06T17:56:46.049Z"
   },
   {
    "duration": 11,
    "start_time": "2021-07-06T17:56:50.386Z"
   },
   {
    "duration": 1576,
    "start_time": "2021-07-06T18:06:22.730Z"
   },
   {
    "duration": 118,
    "start_time": "2021-07-06T18:06:24.309Z"
   },
   {
    "duration": 10,
    "start_time": "2021-07-06T18:06:24.430Z"
   },
   {
    "duration": 167,
    "start_time": "2021-07-06T18:06:24.443Z"
   },
   {
    "duration": 23956,
    "start_time": "2021-07-06T18:06:24.612Z"
   },
   {
    "duration": 88,
    "start_time": "2021-07-06T18:06:48.571Z"
   },
   {
    "duration": 10,
    "start_time": "2021-07-06T18:06:48.661Z"
   },
   {
    "duration": 17,
    "start_time": "2021-07-06T18:06:48.676Z"
   },
   {
    "duration": 13,
    "start_time": "2021-07-06T18:06:48.696Z"
   },
   {
    "duration": 54,
    "start_time": "2021-07-06T18:06:48.712Z"
   },
   {
    "duration": 105,
    "start_time": "2021-07-06T18:06:48.769Z"
   },
   {
    "duration": 8,
    "start_time": "2021-07-06T18:06:48.877Z"
   },
   {
    "duration": 169,
    "start_time": "2021-07-06T18:06:48.887Z"
   },
   {
    "duration": 504,
    "start_time": "2021-07-06T18:06:49.059Z"
   },
   {
    "duration": 32,
    "start_time": "2021-07-06T18:06:49.565Z"
   },
   {
    "duration": 529,
    "start_time": "2021-07-06T18:06:49.658Z"
   },
   {
    "duration": 22,
    "start_time": "2021-07-06T18:06:50.190Z"
   },
   {
    "duration": 148,
    "start_time": "2021-07-06T18:06:50.215Z"
   },
   {
    "duration": 97,
    "start_time": "2021-07-06T18:06:50.366Z"
   },
   {
    "duration": 11886,
    "start_time": "2021-07-06T18:06:50.465Z"
   },
   {
    "duration": 8,
    "start_time": "2021-07-06T18:07:02.357Z"
   },
   {
    "duration": 47,
    "start_time": "2021-07-06T18:07:02.368Z"
   },
   {
    "duration": 175444,
    "start_time": "2021-07-06T18:07:02.420Z"
   },
   {
    "duration": 9,
    "start_time": "2021-07-06T18:09:57.868Z"
   },
   {
    "duration": 1779,
    "start_time": "2021-07-06T18:09:57.879Z"
   },
   {
    "duration": 656024,
    "start_time": "2021-07-06T18:09:59.661Z"
   },
   {
    "duration": 9,
    "start_time": "2021-07-06T18:20:55.687Z"
   },
   {
    "duration": 3799,
    "start_time": "2021-07-06T18:20:55.699Z"
   },
   {
    "duration": 4782737,
    "start_time": "2021-07-06T18:20:59.501Z"
   },
   {
    "duration": 17,
    "start_time": "2021-07-06T19:40:42.240Z"
   },
   {
    "duration": 1103,
    "start_time": "2021-07-06T19:40:42.260Z"
   },
   {
    "duration": 27,
    "start_time": "2021-07-06T19:40:43.380Z"
   },
   {
    "duration": 41881,
    "start_time": "2021-07-06T19:40:43.417Z"
   },
   {
    "duration": 10139,
    "start_time": "2021-07-06T19:41:25.300Z"
   },
   {
    "duration": 21144,
    "start_time": "2021-07-06T19:41:35.442Z"
   },
   {
    "duration": 11,
    "start_time": "2021-07-06T19:41:56.588Z"
   },
   {
    "duration": 1582,
    "start_time": "2021-07-06T19:41:56.602Z"
   },
   {
    "duration": 6,
    "start_time": "2021-07-06T19:41:58.186Z"
   },
   {
    "duration": 39823,
    "start_time": "2021-07-06T19:41:58.194Z"
   },
   {
    "duration": 1610,
    "start_time": "2021-07-10T10:32:40.503Z"
   },
   {
    "duration": 100,
    "start_time": "2021-07-10T10:32:47.499Z"
   },
   {
    "duration": 11,
    "start_time": "2021-07-10T10:32:48.320Z"
   },
   {
    "duration": 159,
    "start_time": "2021-07-10T10:32:49.164Z"
   },
   {
    "duration": 22679,
    "start_time": "2021-07-10T10:34:43.619Z"
   },
   {
    "duration": 66,
    "start_time": "2021-07-10T10:35:06.300Z"
   },
   {
    "duration": 9,
    "start_time": "2021-07-10T10:35:06.369Z"
   },
   {
    "duration": 41,
    "start_time": "2021-07-10T10:35:06.380Z"
   },
   {
    "duration": 15,
    "start_time": "2021-07-10T10:35:06.424Z"
   },
   {
    "duration": 18,
    "start_time": "2021-07-10T10:35:15.960Z"
   },
   {
    "duration": 13,
    "start_time": "2021-07-10T12:30:17.591Z"
   },
   {
    "duration": 149,
    "start_time": "2021-07-10T12:30:23.451Z"
   },
   {
    "duration": 10,
    "start_time": "2021-07-10T12:30:23.603Z"
   },
   {
    "duration": 171,
    "start_time": "2021-07-10T12:30:23.616Z"
   },
   {
    "duration": 22941,
    "start_time": "2021-07-10T12:30:24.330Z"
   },
   {
    "duration": 81,
    "start_time": "2021-07-10T12:30:47.274Z"
   },
   {
    "duration": 10,
    "start_time": "2021-07-10T12:30:47.358Z"
   },
   {
    "duration": 38,
    "start_time": "2021-07-10T12:30:47.371Z"
   },
   {
    "duration": 14,
    "start_time": "2021-07-10T12:30:47.412Z"
   },
   {
    "duration": 19,
    "start_time": "2021-07-10T12:30:47.428Z"
   },
   {
    "duration": 544,
    "start_time": "2021-07-10T12:30:48.927Z"
   },
   {
    "duration": 96,
    "start_time": "2021-07-10T12:32:16.964Z"
   },
   {
    "duration": 12,
    "start_time": "2021-07-10T12:32:34.641Z"
   },
   {
    "duration": 167,
    "start_time": "2021-07-10T12:32:36.853Z"
   },
   {
    "duration": 419,
    "start_time": "2021-07-10T12:32:39.307Z"
   },
   {
    "duration": 89,
    "start_time": "2021-07-10T12:32:44.523Z"
   },
   {
    "duration": 377,
    "start_time": "2021-07-10T12:32:44.934Z"
   },
   {
    "duration": 16,
    "start_time": "2021-07-10T12:32:49.908Z"
   },
   {
    "duration": 74,
    "start_time": "2021-07-10T12:32:50.138Z"
   },
   {
    "duration": 11,
    "start_time": "2021-07-10T12:32:55.671Z"
   },
   {
    "duration": 11470,
    "start_time": "2021-07-10T12:32:57.771Z"
   },
   {
    "duration": 10,
    "start_time": "2021-07-10T12:33:09.245Z"
   },
   {
    "duration": 60,
    "start_time": "2021-07-10T12:33:09.259Z"
   },
   {
    "duration": 202796,
    "start_time": "2021-07-10T12:33:09.322Z"
   },
   {
    "duration": 9,
    "start_time": "2021-07-10T12:36:32.121Z"
   },
   {
    "duration": 277,
    "start_time": "2021-07-10T12:36:32.133Z"
   },
   {
    "duration": 636647,
    "start_time": "2021-07-10T12:36:32.414Z"
   },
   {
    "duration": 8,
    "start_time": "2021-07-10T12:47:09.065Z"
   },
   {
    "duration": 433,
    "start_time": "2021-07-10T12:47:09.076Z"
   },
   {
    "duration": 1597,
    "start_time": "2021-07-10T13:09:03.487Z"
   },
   {
    "duration": 83,
    "start_time": "2021-07-10T13:09:09.367Z"
   },
   {
    "duration": 11,
    "start_time": "2021-07-10T13:09:09.862Z"
   },
   {
    "duration": 232,
    "start_time": "2021-07-10T13:09:10.515Z"
   },
   {
    "duration": 34337,
    "start_time": "2021-07-10T13:09:20.622Z"
   },
   {
    "duration": 93,
    "start_time": "2021-07-10T13:09:54.962Z"
   },
   {
    "duration": 13,
    "start_time": "2021-07-10T13:09:55.058Z"
   },
   {
    "duration": 50,
    "start_time": "2021-07-10T13:09:55.074Z"
   },
   {
    "duration": 16,
    "start_time": "2021-07-10T13:09:55.127Z"
   },
   {
    "duration": 26,
    "start_time": "2021-07-10T13:09:55.146Z"
   },
   {
    "duration": 113,
    "start_time": "2021-07-10T13:11:37.716Z"
   },
   {
    "duration": 1677,
    "start_time": "2021-07-10T13:26:02.293Z"
   },
   {
    "duration": 71,
    "start_time": "2021-07-10T13:26:05.271Z"
   },
   {
    "duration": 12,
    "start_time": "2021-07-10T13:26:05.895Z"
   },
   {
    "duration": 171,
    "start_time": "2021-07-10T13:26:06.471Z"
   },
   {
    "duration": 22998,
    "start_time": "2021-07-10T13:26:09.188Z"
   },
   {
    "duration": 89,
    "start_time": "2021-07-10T13:26:32.189Z"
   },
   {
    "duration": 30,
    "start_time": "2021-07-10T13:26:32.281Z"
   },
   {
    "duration": 24,
    "start_time": "2021-07-10T13:26:32.314Z"
   },
   {
    "duration": 20,
    "start_time": "2021-07-10T13:26:32.341Z"
   },
   {
    "duration": 18,
    "start_time": "2021-07-10T13:26:32.363Z"
   },
   {
    "duration": 76,
    "start_time": "2021-07-10T13:26:32.409Z"
   },
   {
    "duration": 8,
    "start_time": "2021-07-10T13:31:13.886Z"
   },
   {
    "duration": 5,
    "start_time": "2021-07-10T13:39:52.086Z"
   },
   {
    "duration": 1160,
    "start_time": "2021-07-10T13:41:49.556Z"
   },
   {
    "duration": 7,
    "start_time": "2021-07-10T13:45:53.118Z"
   },
   {
    "duration": 725,
    "start_time": "2021-07-10T13:46:13.569Z"
   },
   {
    "duration": 35,
    "start_time": "2021-07-10T13:46:49.857Z"
   },
   {
    "duration": 7,
    "start_time": "2021-07-10T13:51:26.484Z"
   },
   {
    "duration": 6,
    "start_time": "2021-07-10T13:51:30.326Z"
   },
   {
    "duration": 35,
    "start_time": "2021-07-10T13:51:30.766Z"
   },
   {
    "duration": 8,
    "start_time": "2021-07-10T13:52:16.318Z"
   },
   {
    "duration": 5,
    "start_time": "2021-07-10T13:52:19.579Z"
   },
   {
    "duration": 39,
    "start_time": "2021-07-10T13:52:21.450Z"
   },
   {
    "duration": 5,
    "start_time": "2021-07-10T14:01:09.644Z"
   },
   {
    "duration": 115,
    "start_time": "2021-07-10T14:02:41.597Z"
   },
   {
    "duration": 467,
    "start_time": "2021-07-10T14:03:13.681Z"
   },
   {
    "duration": 44,
    "start_time": "2021-07-10T14:06:37.965Z"
   },
   {
    "duration": 368,
    "start_time": "2021-07-10T14:06:42.249Z"
   },
   {
    "duration": 17,
    "start_time": "2021-07-10T14:07:50.554Z"
   },
   {
    "duration": 87,
    "start_time": "2021-07-10T14:08:49.323Z"
   },
   {
    "duration": 12,
    "start_time": "2021-07-10T14:11:19.172Z"
   },
   {
    "duration": 1502,
    "start_time": "2021-07-10T14:12:37.590Z"
   },
   {
    "duration": 129,
    "start_time": "2021-07-10T14:12:39.292Z"
   },
   {
    "duration": 12,
    "start_time": "2021-07-10T14:12:47.007Z"
   },
   {
    "duration": 165,
    "start_time": "2021-07-10T14:12:47.378Z"
   },
   {
    "duration": 23162,
    "start_time": "2021-07-10T14:12:48.620Z"
   },
   {
    "duration": 76,
    "start_time": "2021-07-10T14:13:11.784Z"
   },
   {
    "duration": 9,
    "start_time": "2021-07-10T14:13:11.863Z"
   },
   {
    "duration": 38,
    "start_time": "2021-07-10T14:13:11.875Z"
   },
   {
    "duration": 11,
    "start_time": "2021-07-10T14:13:11.916Z"
   },
   {
    "duration": 21,
    "start_time": "2021-07-10T14:13:11.930Z"
   },
   {
    "duration": 111,
    "start_time": "2021-07-10T14:13:11.954Z"
   },
   {
    "duration": 8,
    "start_time": "2021-07-10T14:13:12.070Z"
   },
   {
    "duration": 12,
    "start_time": "2021-07-10T14:13:12.081Z"
   },
   {
    "duration": 47,
    "start_time": "2021-07-10T14:13:12.095Z"
   },
   {
    "duration": 6,
    "start_time": "2021-07-10T14:13:12.145Z"
   },
   {
    "duration": 259,
    "start_time": "2021-07-10T14:13:12.153Z"
   },
   {
    "duration": 406,
    "start_time": "2021-07-10T14:13:12.415Z"
   },
   {
    "duration": 35,
    "start_time": "2021-07-10T14:13:12.824Z"
   },
   {
    "duration": 422,
    "start_time": "2021-07-10T14:13:12.911Z"
   },
   {
    "duration": 19,
    "start_time": "2021-07-10T14:13:13.335Z"
   },
   {
    "duration": 154,
    "start_time": "2021-07-10T14:13:13.356Z"
   },
   {
    "duration": 99,
    "start_time": "2021-07-10T14:13:13.514Z"
   },
   {
    "duration": 12775,
    "start_time": "2021-07-10T14:14:53.887Z"
   },
   {
    "duration": 8,
    "start_time": "2021-07-10T14:19:35.029Z"
   },
   {
    "duration": 48,
    "start_time": "2021-07-10T14:19:35.533Z"
   },
   {
    "duration": 181757,
    "start_time": "2021-07-10T14:21:08.959Z"
   },
   {
    "duration": 9,
    "start_time": "2021-07-10T14:24:14.435Z"
   },
   {
    "duration": 53,
    "start_time": "2021-07-10T14:24:35.061Z"
   },
   {
    "duration": 1632,
    "start_time": "2021-07-10T14:28:11.984Z"
   },
   {
    "duration": 82,
    "start_time": "2021-07-10T14:28:13.618Z"
   },
   {
    "duration": 11,
    "start_time": "2021-07-10T14:28:13.703Z"
   },
   {
    "duration": 192,
    "start_time": "2021-07-10T14:28:13.717Z"
   },
   {
    "duration": 22932,
    "start_time": "2021-07-10T14:28:14.390Z"
   },
   {
    "duration": 60,
    "start_time": "2021-07-10T14:28:37.325Z"
   },
   {
    "duration": 28,
    "start_time": "2021-07-10T14:28:37.388Z"
   },
   {
    "duration": 16,
    "start_time": "2021-07-10T14:28:37.418Z"
   },
   {
    "duration": 11,
    "start_time": "2021-07-10T14:28:37.437Z"
   },
   {
    "duration": 18,
    "start_time": "2021-07-10T14:28:37.450Z"
   },
   {
    "duration": 78,
    "start_time": "2021-07-10T14:28:37.509Z"
   },
   {
    "duration": 8,
    "start_time": "2021-07-10T14:28:37.609Z"
   },
   {
    "duration": 11,
    "start_time": "2021-07-10T14:28:37.619Z"
   },
   {
    "duration": 33,
    "start_time": "2021-07-10T14:28:39.053Z"
   },
   {
    "duration": 6,
    "start_time": "2021-07-10T14:28:49.043Z"
   },
   {
    "duration": 58,
    "start_time": "2021-07-10T14:28:50.462Z"
   },
   {
    "duration": 397,
    "start_time": "2021-07-10T14:28:51.120Z"
   },
   {
    "duration": 95,
    "start_time": "2021-07-10T14:28:53.114Z"
   },
   {
    "duration": 413,
    "start_time": "2021-07-10T14:28:53.310Z"
   },
   {
    "duration": 17,
    "start_time": "2021-07-10T14:28:53.906Z"
   },
   {
    "duration": 117,
    "start_time": "2021-07-10T14:28:54.292Z"
   },
   {
    "duration": 10,
    "start_time": "2021-07-10T14:28:56.039Z"
   },
   {
    "duration": 12592,
    "start_time": "2021-07-10T14:28:57.546Z"
   },
   {
    "duration": 9,
    "start_time": "2021-07-10T14:29:10.142Z"
   },
   {
    "duration": 81,
    "start_time": "2021-07-10T14:29:10.154Z"
   },
   {
    "duration": 471,
    "start_time": "2021-07-10T14:29:10.237Z"
   },
   {
    "duration": 35,
    "start_time": "2021-07-10T14:29:35.999Z"
   },
   {
    "duration": 201390,
    "start_time": "2021-07-10T14:35:18.921Z"
   },
   {
    "duration": 9,
    "start_time": "2021-07-10T14:38:40.314Z"
   },
   {
    "duration": 584,
    "start_time": "2021-07-10T14:38:40.326Z"
   },
   {
    "duration": 123,
    "start_time": "2021-07-10T14:38:40.914Z"
   },
   {
    "duration": 1573,
    "start_time": "2021-07-10T14:43:58.124Z"
   },
   {
    "duration": 1573,
    "start_time": "2021-07-10T14:44:30.151Z"
   },
   {
    "duration": 84,
    "start_time": "2021-07-10T14:44:31.726Z"
   },
   {
    "duration": 10,
    "start_time": "2021-07-10T14:44:31.813Z"
   },
   {
    "duration": 237,
    "start_time": "2021-07-10T14:44:31.826Z"
   },
   {
    "duration": 34532,
    "start_time": "2021-07-10T14:44:32.410Z"
   },
   {
    "duration": 96,
    "start_time": "2021-07-10T14:45:06.945Z"
   },
   {
    "duration": 12,
    "start_time": "2021-07-10T14:45:07.045Z"
   },
   {
    "duration": 37,
    "start_time": "2021-07-10T14:45:07.060Z"
   },
   {
    "duration": 15,
    "start_time": "2021-07-10T14:45:07.108Z"
   },
   {
    "duration": 18,
    "start_time": "2021-07-10T14:45:07.126Z"
   },
   {
    "duration": 110,
    "start_time": "2021-07-10T14:45:07.146Z"
   },
   {
    "duration": 10,
    "start_time": "2021-07-10T14:45:07.260Z"
   },
   {
    "duration": 19,
    "start_time": "2021-07-10T14:45:07.273Z"
   },
   {
    "duration": 53,
    "start_time": "2021-07-10T14:45:07.309Z"
   },
   {
    "duration": 8,
    "start_time": "2021-07-10T14:45:07.365Z"
   },
   {
    "duration": 139,
    "start_time": "2021-07-10T14:45:07.376Z"
   },
   {
    "duration": 496,
    "start_time": "2021-07-10T14:45:07.518Z"
   },
   {
    "duration": 39,
    "start_time": "2021-07-10T14:45:50.739Z"
   },
   {
    "duration": 465,
    "start_time": "2021-07-10T14:45:51.338Z"
   },
   {
    "duration": 23,
    "start_time": "2021-07-10T14:46:02.683Z"
   },
   {
    "duration": 70,
    "start_time": "2021-07-10T14:46:03.454Z"
   },
   {
    "duration": 16,
    "start_time": "2021-07-10T14:46:34.252Z"
   },
   {
    "duration": 17946,
    "start_time": "2021-07-10T14:46:42.729Z"
   },
   {
    "duration": 10,
    "start_time": "2021-07-10T14:48:10.707Z"
   },
   {
    "duration": 49,
    "start_time": "2021-07-10T14:48:12.292Z"
   },
   {
    "duration": 501,
    "start_time": "2021-07-10T14:48:14.727Z"
   },
   {
    "duration": 9,
    "start_time": "2021-07-10T14:49:32.750Z"
   },
   {
    "duration": 81,
    "start_time": "2021-07-10T14:49:35.105Z"
   },
   {
    "duration": 8,
    "start_time": "2021-07-10T14:49:52.796Z"
   },
   {
    "duration": 83,
    "start_time": "2021-07-10T14:49:53.186Z"
   },
   {
    "duration": 185927,
    "start_time": "2021-07-10T14:52:02.383Z"
   },
   {
    "duration": 9,
    "start_time": "2021-07-10T14:55:08.313Z"
   },
   {
    "duration": 500,
    "start_time": "2021-07-10T14:55:08.325Z"
   },
   {
    "duration": 776922,
    "start_time": "2021-07-10T14:56:53.421Z"
   },
   {
    "duration": -1066,
    "start_time": "2021-07-10T15:09:51.776Z"
   },
   {
    "duration": -1074,
    "start_time": "2021-07-10T15:09:51.787Z"
   },
   {
    "duration": -1075,
    "start_time": "2021-07-10T15:09:51.790Z"
   },
   {
    "duration": 10,
    "start_time": "2021-07-10T15:09:59.045Z"
   },
   {
    "duration": 362,
    "start_time": "2021-07-10T15:09:59.661Z"
   },
   {
    "duration": 9,
    "start_time": "2021-07-10T15:10:28.837Z"
   },
   {
    "duration": 365,
    "start_time": "2021-07-10T15:10:29.828Z"
   },
   {
    "duration": 493,
    "start_time": "2021-07-10T15:10:56.390Z"
   },
   {
    "duration": -1357,
    "start_time": "2021-07-10T16:45:36.358Z"
   },
   {
    "duration": -1361,
    "start_time": "2021-07-10T16:45:36.364Z"
   },
   {
    "duration": -1364,
    "start_time": "2021-07-10T16:45:36.368Z"
   },
   {
    "duration": -1366,
    "start_time": "2021-07-10T16:45:36.372Z"
   },
   {
    "duration": -1369,
    "start_time": "2021-07-10T16:45:36.376Z"
   },
   {
    "duration": 6,
    "start_time": "2021-07-10T16:46:51.545Z"
   },
   {
    "duration": 29064,
    "start_time": "2021-07-10T16:46:53.050Z"
   },
   {
    "duration": 8,
    "start_time": "2021-07-10T16:51:00.616Z"
   },
   {
    "duration": 27925,
    "start_time": "2021-07-10T16:51:01.095Z"
   },
   {
    "duration": 1567,
    "start_time": "2021-07-10T16:58:24.750Z"
   },
   {
    "duration": 161,
    "start_time": "2021-07-10T16:58:26.320Z"
   },
   {
    "duration": 11,
    "start_time": "2021-07-10T16:58:26.485Z"
   },
   {
    "duration": 166,
    "start_time": "2021-07-10T16:58:26.498Z"
   },
   {
    "duration": 23001,
    "start_time": "2021-07-10T16:58:26.666Z"
   },
   {
    "duration": 74,
    "start_time": "2021-07-10T16:58:49.670Z"
   },
   {
    "duration": 9,
    "start_time": "2021-07-10T16:58:49.746Z"
   },
   {
    "duration": 60,
    "start_time": "2021-07-10T16:58:49.759Z"
   },
   {
    "duration": 77,
    "start_time": "2021-07-10T16:58:49.822Z"
   },
   {
    "duration": 36,
    "start_time": "2021-07-10T16:58:49.901Z"
   },
   {
    "duration": 80,
    "start_time": "2021-07-10T16:58:49.939Z"
   },
   {
    "duration": 7,
    "start_time": "2021-07-10T16:58:50.022Z"
   },
   {
    "duration": 27,
    "start_time": "2021-07-10T16:58:50.032Z"
   },
   {
    "duration": 51,
    "start_time": "2021-07-10T16:58:50.062Z"
   },
   {
    "duration": 9,
    "start_time": "2021-07-10T16:58:50.116Z"
   },
   {
    "duration": 95,
    "start_time": "2021-07-10T16:58:50.128Z"
   },
   {
    "duration": 504,
    "start_time": "2021-07-10T16:58:50.311Z"
   },
   {
    "duration": 37,
    "start_time": "2021-07-10T16:58:50.817Z"
   },
   {
    "duration": 437,
    "start_time": "2021-07-10T16:58:50.911Z"
   },
   {
    "duration": 24,
    "start_time": "2021-07-10T16:58:51.351Z"
   },
   {
    "duration": 135,
    "start_time": "2021-07-10T16:58:51.378Z"
   },
   {
    "duration": 102,
    "start_time": "2021-07-10T16:58:51.517Z"
   },
   {
    "duration": 14518,
    "start_time": "2021-07-10T16:58:51.626Z"
   },
   {
    "duration": 9,
    "start_time": "2021-07-10T16:59:06.147Z"
   },
   {
    "duration": 107,
    "start_time": "2021-07-10T16:59:06.159Z"
   },
   {
    "duration": 181943,
    "start_time": "2021-07-10T16:59:06.269Z"
   },
   {
    "duration": 99,
    "start_time": "2021-07-10T17:02:08.215Z"
   },
   {
    "duration": 310,
    "start_time": "2021-07-10T17:02:08.316Z"
   },
   {
    "duration": 701213,
    "start_time": "2021-07-10T17:02:08.629Z"
   },
   {
    "duration": 9,
    "start_time": "2021-07-10T17:13:49.845Z"
   },
   {
    "duration": 507,
    "start_time": "2021-07-10T17:13:49.856Z"
   },
   {
    "duration": 5417574,
    "start_time": "2021-07-10T17:13:50.366Z"
   },
   {
    "duration": 10,
    "start_time": "2021-07-10T18:44:07.943Z"
   },
   {
    "duration": 1481,
    "start_time": "2021-07-10T18:44:07.957Z"
   },
   {
    "duration": -1180,
    "start_time": "2021-07-10T18:44:10.621Z"
   },
   {
    "duration": -1400,
    "start_time": "2021-07-10T18:44:10.843Z"
   },
   {
    "duration": -1401,
    "start_time": "2021-07-10T18:44:10.845Z"
   },
   {
    "duration": -1405,
    "start_time": "2021-07-10T18:44:10.851Z"
   },
   {
    "duration": 15,
    "start_time": "2021-07-10T18:51:27.711Z"
   },
   {
    "duration": 788,
    "start_time": "2021-07-10T18:51:27.736Z"
   },
   {
    "duration": 10,
    "start_time": "2021-07-10T18:51:28.528Z"
   },
   {
    "duration": 47082,
    "start_time": "2021-07-10T18:51:28.542Z"
   },
   {
    "duration": 8,
    "start_time": "2021-07-10T18:54:38.897Z"
   },
   {
    "duration": 44969,
    "start_time": "2021-07-10T18:54:39.309Z"
   }
  ],
  "accelerator": "TPU",
  "colab": {
   "name": "customer_churn_predictML.ipynb",
   "provenance": []
  },
  "kernelspec": {
   "display_name": "Python 3",
   "language": "python",
   "name": "python3"
  },
  "language_info": {
   "codemirror_mode": {
    "name": "ipython",
    "version": 3
   },
   "file_extension": ".py",
   "mimetype": "text/x-python",
   "name": "python",
   "nbconvert_exporter": "python",
   "pygments_lexer": "ipython3",
   "version": "3.8.5"
  },
  "toc": {
   "base_numbering": 1,
   "nav_menu": {},
   "number_sections": true,
   "sideBar": true,
   "skip_h1_title": true,
   "title_cell": "Table of Contents",
   "title_sidebar": "Contents",
   "toc_cell": false,
   "toc_position": {},
   "toc_section_display": true,
   "toc_window_display": false
  }
 },
 "nbformat": 4,
 "nbformat_minor": 4
}
